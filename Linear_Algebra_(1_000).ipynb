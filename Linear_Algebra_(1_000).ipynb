{
  "nbformat": 4,
  "nbformat_minor": 0,
  "metadata": {
    "colab": {
      "provenance": [],
      "toc_visible": true,
      "authorship_tag": "ABX9TyN2UdvUFAbYxkRkKRvTt8ya",
      "include_colab_link": true
    },
    "kernelspec": {
      "name": "python3",
      "display_name": "Python 3"
    },
    "language_info": {
      "name": "python"
    }
  },
  "cells": [
    {
      "cell_type": "markdown",
      "metadata": {
        "id": "view-in-github",
        "colab_type": "text"
      },
      "source": [
        "<a href=\"https://colab.research.google.com/github/manco92/random/blob/main/Linear_Algebra_(1_000).ipynb\" target=\"_parent\"><img src=\"https://colab.research.google.com/assets/colab-badge.svg\" alt=\"Open In Colab\"/></a>"
      ]
    },
    {
      "cell_type": "code",
      "execution_count": null,
      "metadata": {
        "id": "671uSwAsarB7"
      },
      "outputs": [],
      "source": [
        "import numpy as np\n",
        "import sympy as sp\n",
        "import matplotlib.pyplot as plt\n",
        "from mpl_toolkits.mplot3d import Axes3D"
      ]
    },
    {
      "cell_type": "code",
      "source": [
        "x1 = sp.Symbol('x1')\n",
        "x2 = sp.Symbol('x2')"
      ],
      "metadata": {
        "id": "2aPZuMMRfkDP"
      },
      "execution_count": null,
      "outputs": []
    },
    {
      "cell_type": "code",
      "source": [
        "A = np.array([[2,3],[2,4],[3,7]])\n",
        "X = np.array([[x1],[x2]])"
      ],
      "metadata": {
        "id": "lfO62M9pfkHP"
      },
      "execution_count": null,
      "outputs": []
    },
    {
      "cell_type": "code",
      "source": [
        "A@X"
      ],
      "metadata": {
        "colab": {
          "base_uri": "https://localhost:8080/"
        },
        "id": "ctrW2qXmfoOJ",
        "outputId": "71f41856-3da9-4899-ad31-debe1995276e"
      },
      "execution_count": null,
      "outputs": [
        {
          "output_type": "execute_result",
          "data": {
            "text/plain": [
              "array([[2*x1 + 3*x2],\n",
              "       [2*x1 + 4*x2],\n",
              "       [3*x1 + 7*x2]], dtype=object)"
            ]
          },
          "metadata": {},
          "execution_count": 4
        }
      ]
    },
    {
      "cell_type": "markdown",
      "source": [
        "## **MULTIPLICACIÓN DE $Ax$ USANDO LAS COLUMNAS DE $A$**"
      ],
      "metadata": {
        "id": "VkOHYacGmbnH"
      }
    },
    {
      "cell_type": "markdown",
      "source": [
        "A continuación, mostramos dos maneras diferentes de pensar una multiplicación de una matriz $A$ por un vector $x$: usando las tres filas de $A$ y usando las dos columnas de $A$."
      ],
      "metadata": {
        "id": "XqSmAQFe1NBV"
      }
    },
    {
      "cell_type": "markdown",
      "source": [
        "##### **EJEMPLO 1**"
      ],
      "metadata": {
        "id": "uZsEi3lcGz89"
      }
    },
    {
      "cell_type": "markdown",
      "source": [
        "Por filas (productos internos de las filas)"
      ],
      "metadata": {
        "id": "r2E0WXE8iRG-"
      }
    },
    {
      "cell_type": "markdown",
      "source": [
        "${\\begin{bmatrix}\n",
        "2 \\quad 3 \\\\\n",
        "2 \\quad 4 \\\\\n",
        "3 \\quad 7 \\\\\n",
        "\\end{bmatrix}}\n",
        "{\\begin{bmatrix}\n",
        "x_{1} \\\\\n",
        "x_{2} \\\\\n",
        "\\end{bmatrix}}\n",
        "=\n",
        "{\\begin{bmatrix}\n",
        "2x_{1} + 3x_{2} \\\\\n",
        "2x_{1} + 4x_{2} \\\\\n",
        "3x_{1} + 7x_{2} \\\\\n",
        "\\end{bmatrix}}$"
      ],
      "metadata": {
        "id": "OAFKi_Isa4kP"
      }
    },
    {
      "cell_type": "markdown",
      "source": [
        "Por columnas (combinación lineal de las columnas)"
      ],
      "metadata": {
        "id": "gqYXeCcIiko4"
      }
    },
    {
      "cell_type": "markdown",
      "source": [
        "${\\begin{bmatrix}\n",
        "2 \\quad 3 \\\\\n",
        "2 \\quad 4 \\\\\n",
        "3 \\quad 7 \\\\\n",
        "\\end{bmatrix}}\n",
        "{\\begin{bmatrix}\n",
        "x_{1} \\\\\n",
        "x_{2} \\\\\n",
        "\\end{bmatrix}}\n",
        "= x_{1}\n",
        "{\\begin{bmatrix}\n",
        "2 \\\\\n",
        "2 \\\\\n",
        "3 \\\\\n",
        "\\end{bmatrix}} + x_{2}\n",
        "{\\begin{bmatrix}\n",
        "3 \\\\\n",
        "4 \\\\\n",
        "7 \\\\\n",
        "\\end{bmatrix}}$"
      ],
      "metadata": {
        "id": "8474e38dhzgf"
      }
    },
    {
      "cell_type": "markdown",
      "source": [
        "La multiplicación por filas permite trabajar con cada componente del vector resultado. Es una manera fácil para calcular, pero no tiene la interpretabilidad suficiente. En cambio, el enfoque de la multiplicación por columnas permite interpretar a $Ax$ como una combinación lineal de $a_{1}$ y $a_{2}$. **Esta es la operación fundamental del álgebra lineal.** "
      ],
      "metadata": {
        "id": "2-J9hwYQ2YYM"
      }
    },
    {
      "cell_type": "markdown",
      "source": [
        "Las combinaciones de las columnas completan el espacio columna de la matriz $A$. En este caso, el espacio columna es un plano. A continuación se muestra dicho plano, y los vectores $[2,2,3]$ en rojo, y $[3,4,7]$ en verde."
      ],
      "metadata": {
        "id": "5Iyc3ea4iM6I"
      }
    },
    {
      "cell_type": "code",
      "source": [
        "x = np.linspace(-5,5,11)\n",
        "y = np.linspace(-5,5,11)\n",
        "\n",
        "X, Y = np.meshgrid(x,y)\n",
        "Z = -X + 5/2 * Y\n",
        "\n",
        "fig = plt.figure(figsize = (8,5))\n",
        "ax = fig.add_subplot(111, projection = '3d')\n",
        "\n",
        "ax.plot_surface(X, Y, Z, alpha = 0.5)\n",
        "ax.quiver([0],[0],[0],[2],[2],[3], colors = 'r', length = 2.5, lw = 1, arrow_length_ratio=0)\n",
        "ax.quiver([0],[0],[0],[3],[4],[7], colors = 'g', length = 1.25, lw = 1, arrow_length_ratio=0)\n",
        "\n",
        "ax.view_init(25, 20)\n",
        "\n",
        "ax.set_xlabel('X', fontsize = 15)\n",
        "ax.set_ylabel('Y', fontsize = 15)\n",
        "ax.set_zlabel('Z', fontsize = 15)\n",
        "ax.set_xticks(x)\n",
        "ax.set_yticks(y)\n",
        "\n",
        "ax.tick_params(labelsize = 8)\n",
        "\n",
        "plt.show()"
      ],
      "metadata": {
        "colab": {
          "base_uri": "https://localhost:8080/",
          "height": 303
        },
        "id": "v7lOvMuWiNHX",
        "outputId": "e44af27f-1000-4f05-9650-c11512d504a0"
      },
      "execution_count": null,
      "outputs": [
        {
          "output_type": "display_data",
          "data": {
            "text/plain": [
              "<Figure size 576x360 with 1 Axes>"
            ],
            "image/png": "[encoded data removed]"
          },
          "metadata": {
            "needs_background": "light"
          }
        }
      ]
    },
    {
      "cell_type": "markdown",
      "source": [
        "$b = (b_{1}, b_{2}, b_{3})$ está en el espacio columna de $A$ **exactamente en los casos en que $Ax = b$** tiene una solución $x = (x_{1}, x_{2})$."
      ],
      "metadata": {
        "id": "Xvluyefm3vUt"
      }
    },
    {
      "cell_type": "markdown",
      "source": [
        "La solución $x$ muestra cómo expresar el lado derecho $b$ como una combinación $x_{1} a_{1} + x_{2} a_{2}$ de las columnas. Para algunos $b$ esto es imposible  porque no están en el espacio columna. Veamos el siguiente ejemplo:"
      ],
      "metadata": {
        "id": "G24Nlght4gv2"
      }
    },
    {
      "cell_type": "markdown",
      "source": [
        "##### **EJEMPLO 2**"
      ],
      "metadata": {
        "id": "s6y60wtpGuZn"
      }
    },
    {
      "cell_type": "markdown",
      "source": [
        "$b = \n",
        "{\\begin{bmatrix}\n",
        "1 \\\\\n",
        "1 \\\\\n",
        "1 \\\\\n",
        "\\end{bmatrix}}$\n",
        "no está en el espacio columna de $A$ porque\n",
        "$ A$$x$$ \\ = {\\begin{bmatrix}\n",
        "2x_{1} + 3x_{2} \\\\\n",
        "2x_{1} + 4x_{2} \\\\\n",
        "3x_{1} + 7x_{2} \\\\\n",
        "\\end{bmatrix}} = \n",
        "{\\begin{bmatrix}\n",
        "1 \\\\\n",
        "1 \\\\\n",
        "1 \\\\\n",
        "\\end{bmatrix}}$ no tiene solución."
      ],
      "metadata": {
        "id": "hjdzWR4lG8yV"
      }
    },
    {
      "cell_type": "markdown",
      "source": [
        "Para entender esto, podemos ver que las primeras dos ecuaciones tienen solución para $ $$x_{1}$$ = 1/2 $ y $ $$x_{2}$$ = 0 $, pero la tercera ecuación no se cumple, puesto que $ 3(1/2) + 7(0) = 3/2 $, cuando debería ser $1$. El gráfico a continuación muestra el vector $[1,1,1]$ en rojo."
      ],
      "metadata": {
        "id": "CAS0B4hiG81m"
      }
    },
    {
      "cell_type": "code",
      "source": [
        "x = np.linspace(-5,5,11)\n",
        "y = np.linspace(-5,5,11)\n",
        "\n",
        "X, Y = np.meshgrid(x,y)\n",
        "Z = -X + 5/2 * Y\n",
        "\n",
        "fig = plt.figure(figsize = (8,5))\n",
        "ax = fig.add_subplot(111, projection = '3d')\n",
        "\n",
        "ax.plot_surface(X, Y, Z, alpha = 0.5)\n",
        "ax.quiver([0],[0],[0],[2],[2],[3], colors = 'black', length = 2.5, lw = 1, arrow_length_ratio=0)\n",
        "ax.quiver([0],[0],[0],[3],[4],[7], colors = 'black', length = 1.25, lw = 1, arrow_length_ratio=0)\n",
        "ax.quiver([0],[0],[0],[1],[1],[1], colors = 'r', length = 5, lw = 1.5, arrow_length_ratio=0)\n",
        "\n",
        "ax.view_init(25, 20)\n",
        "\n",
        "ax.set_xlabel('X', fontsize = 15)\n",
        "ax.set_ylabel('Y', fontsize = 15)\n",
        "ax.set_zlabel('Z', fontsize = 15)\n",
        "ax.set_xticks(x)\n",
        "ax.set_yticks(y)\n",
        "\n",
        "ax.tick_params(labelsize = 8)\n",
        "\n",
        "plt.show()"
      ],
      "metadata": {
        "colab": {
          "base_uri": "https://localhost:8080/",
          "height": 303
        },
        "id": "ZSCzvWmCL-c3",
        "outputId": "8509e128-f43a-46df-860b-8d34882035f2"
      },
      "execution_count": null,
      "outputs": [
        {
          "output_type": "display_data",
          "data": {
            "text/plain": [
              "<Figure size 576x360 with 1 Axes>"
            ],
            "image/png": "[encoded data removed]"
          },
          "metadata": {
            "needs_background": "light"
          }
        }
      ]
    },
    {
      "cell_type": "markdown",
      "source": [
        "##### **EJEMPLO 3**"
      ],
      "metadata": {
        "id": "yvVwvwWWG85N"
      }
    },
    {
      "cell_type": "markdown",
      "source": [
        "¿Cuáles son los espacions columna de $A_{2} = \n",
        "{\\begin{bmatrix}\n",
        "2 \\quad 3 \\quad 5 \\\\\n",
        "2 \\quad 4 \\quad 6 \\\\\n",
        "3 \\quad 7 \\quad 10 \\\\\n",
        "\\end{bmatrix}}$ y $\n",
        "A_{3} \\ = \n",
        "{\\begin{bmatrix}\n",
        "2 \\quad 3 \\quad 1 \\\\\n",
        "2 \\quad 4 \\quad 1 \\\\\n",
        "3 \\quad 7 \\quad 1 \\\\\n",
        "\\end{bmatrix}}$ ?"
      ],
      "metadata": {
        "id": "tsIRdZQxL2lx"
      }
    },
    {
      "cell_type": "markdown",
      "source": [
        "El espacio columna de $A_{2}$ es el mismo plano que antes. Si nos fijamos atentamente, la tercera columna es la suma de las dos primeras, entonces el vector $[5,6,10]$ ya se encuentra en el plano, y no \"aporta nada nuevo\". Al incluir este vector dependiente, no nos extendemos más allá del plano original."
      ],
      "metadata": {
        "id": "Xf-jF43-L2zm"
      }
    },
    {
      "cell_type": "markdown",
      "source": [
        "El espacio columna de $A_{3}$ es todo el espacio tridimensional $R^3$. Como vimos en el ejemplo anterior, el vector $[1,1,1]$ no está en el espacio columna de $A$. Por lo tanto, la dimensión del espacio columna creció de $2$ (un plano en $R^3$) a $3$ (todo el espacio tridimensional $R^3$). La nueva columna independiente permite \"despegarse\" del plano."
      ],
      "metadata": {
        "id": "Hk1EfAymR1WB"
      }
    },
    {
      "cell_type": "markdown",
      "source": [
        "De aquí podemos deducir que para el espacio $R^3$ existen cuatro subespacios posibles:\n",
        "* El vector cero $[0,0,0]$ por sí solo.\n",
        "* Una **recta** con todos los vectores $x_{1}a_{1}$.\n",
        "* Un **plano** con todos los vectores $x_{1}a_{1} + x_{2}a_{2}$.\n",
        "* El **espacio completo $R^3$** con todos los vectores $x_{1}a_{1} + x_{2}a_{2}+ x_{3}a_{3}$.\n",
        "\n",
        "Es necesario que los vectores $a_{1}$, $a_{2}$ y $a_{3}$ sean independientes, es decir que la única combinación posible que dé el vector cero sea con $x_{1}, x_{2}, x_{3} = 0$."
      ],
      "metadata": {
        "id": "DgnuPwD1Y59e"
      }
    },
    {
      "cell_type": "markdown",
      "source": [
        "${\\begin{bmatrix}\n",
        "0 \\\\\n",
        "0 \\\\\n",
        "0 \\\\\n",
        "\\end{bmatrix}} = x_{1} \\ a_{1} + x_{2} \\ a_{2} + x_{3} \\ a_{3} = 0 \\ a_{1} + 0 \\ a_{2} + 0 \\ a_{3}$"
      ],
      "metadata": {
        "id": "WcoSLPjFPNb1"
      }
    },
    {
      "cell_type": "markdown",
      "source": [
        "## **COLUMNAS INDEPENDIENTES Y RANGO DE MATRIZ**"
      ],
      "metadata": {
        "id": "hk-1rjeHUNCG"
      }
    },
    {
      "cell_type": "markdown",
      "source": [
        "Vamos a crear una matriz a la que llamaremos $C$ que contenga solo las columnas independientes de una matriz $A$. De esta manera, la matriz $C$ constituye una base para el espacio columna de $A$."
      ],
      "metadata": {
        "id": "fOJ7nqA46BYP"
      }
    },
    {
      "cell_type": "markdown",
      "source": [
        "##### **EJEMPLO 4**"
      ],
      "metadata": {
        "id": "C8Of-w_fiNRA"
      }
    },
    {
      "cell_type": "markdown",
      "source": [
        "Si $ \\ A = \n",
        "{\\begin{bmatrix}\n",
        "1 \\quad 3 \\quad 8 \\\\\n",
        "1 \\quad 2 \\quad 6 \\\\\n",
        "0 \\quad 1 \\quad 2 \\\\\n",
        "\\end{bmatrix}}$ entonces $ \\\n",
        "C \\ = \n",
        "{\\begin{bmatrix}\n",
        "1 \\quad 3 \\\\\n",
        "1 \\quad 2 \\\\\n",
        "0 \\quad 1 \\\\\n",
        "\\end{bmatrix}}$"
      ],
      "metadata": {
        "id": "DRT3LvBoiNUX"
      }
    },
    {
      "cell_type": "markdown",
      "source": [
        "La columna $3$ de $A$ es $2$(columna $1$) $+$ $2$(columna $2$), por lo que la excluimos de la base $C$. Entonces nos queda:\n",
        "* $n = 3$ columnas en $A$.\n",
        "* $r = 2$ columnas en $C$."
      ],
      "metadata": {
        "id": "iCrEnmltiNXA"
      }
    },
    {
      "cell_type": "markdown",
      "source": [
        "##### **EJEMPLO 5**"
      ],
      "metadata": {
        "id": "2VJNUshUWh74"
      }
    },
    {
      "cell_type": "markdown",
      "source": [
        "Si $ \\ A = \n",
        "{\\begin{bmatrix}\n",
        "1 \\quad 2 \\quad 3 \\\\\n",
        "0 \\quad 4 \\quad 5 \\\\\n",
        "0 \\quad 0 \\quad 6 \\\\\n",
        "\\end{bmatrix}}$ entonces $ \\\n",
        "C \\ = A$"
      ],
      "metadata": {
        "id": "mj_bj-F5Wh-_"
      }
    },
    {
      "cell_type": "markdown",
      "source": [
        "Todas las columnas son linealmente independientes, es decir que el espacio columna es todo $R^3$. Entonces nos queda:\n",
        "* $n = 3$ columnas en $A$.\n",
        "* $r = 3$ columnas en $C$."
      ],
      "metadata": {
        "id": "sM47LhI6WiCm"
      }
    },
    {
      "cell_type": "markdown",
      "source": [
        "##### **EJEMPLO 6**"
      ],
      "metadata": {
        "id": "hifaRJfvfT_O"
      }
    },
    {
      "cell_type": "markdown",
      "source": [
        "Si $ \\ A = \n",
        "{\\begin{bmatrix}\n",
        "1 \\quad 2 \\quad 5 \\\\\n",
        "1 \\quad 2 \\quad 5 \\\\\n",
        "1 \\quad 2 \\quad 5 \\\\\n",
        "\\end{bmatrix}}$ entonces $ \\\n",
        "C \\ = \n",
        "{\\begin{bmatrix}\n",
        "1 \\\\\n",
        "1 \\\\\n",
        "1 \\\\\n",
        "\\end{bmatrix}}$"
      ],
      "metadata": {
        "id": "WxtI-fwefUCV"
      }
    },
    {
      "cell_type": "markdown",
      "source": [
        "La columna $2$ de $A$ es $2$(columna $1$), y la columna $3$ de $A$ es $5$(columna $1$), por lo que las excluimos de la base $C$. Entonces nos queda:\n",
        "* $n = 3$ columnas en $A$.\n",
        "* $r = 1$ columnas en $C$."
      ],
      "metadata": {
        "id": "oRD1-RtFfUFy"
      }
    },
    {
      "cell_type": "markdown",
      "source": [
        "Con estos ejemplos, podemos concluir entonces que **el rango de una matriz es la dimensión de su espacio columna**."
      ],
      "metadata": {
        "id": "cQ2jjSGAfUIs"
      }
    },
    {
      "cell_type": "markdown",
      "source": [
        "La matriz $C$ se conecta con $A$ por medio de una tercera matriz $R:A = C \\ R$."
      ],
      "metadata": {
        "id": "pRWWurEMlVlN"
      }
    },
    {
      "cell_type": "markdown",
      "source": [
        "$ \\ A = \n",
        "{\\begin{bmatrix}\n",
        "1 \\quad 3 \\quad 8 \\\\\n",
        "1 \\quad 2 \\quad 6 \\\\\n",
        "0 \\quad 1 \\quad 2 \\\\\n",
        "\\end{bmatrix}} = \n",
        "{\\begin{bmatrix}\n",
        "1 \\quad 3 \\\\\n",
        "1 \\quad 2 \\\\\n",
        "0 \\quad 1 \\\\\n",
        "\\end{bmatrix}}\n",
        "{\\begin{bmatrix}\n",
        "1 \\quad 0 \\quad 2 \\\\\n",
        "0 \\quad 1 \\quad 2 \\\\\n",
        "\\end{bmatrix}} = C \\ R$"
      ],
      "metadata": {
        "id": "ULC5PnWFlVoN"
      }
    },
    {
      "cell_type": "markdown",
      "source": [
        "Las columnas de la matriz $R$ indican cómo deben multiplicarse las columnas de $C$ para obtener la matriz $A$:\n",
        "* Cuando $C$ multiplica a la columna $[1,0]$ obtenemos la columna $1$ de $C$ y $A$.\n",
        "* Cuando $C$ multiplica a la columna $[0,1]$ obtenemos la columna $2$ de $C$ y $A$.\n",
        "* Cuando $C$ multiplica a la columna $[2,2]$ obtenemos $2$(columna $1$) $+$ $2$(columna $2$). Esto es la columna $3$ de $A$."
      ],
      "metadata": {
        "id": "yjRdAm24lVrJ"
      }
    },
    {
      "cell_type": "markdown",
      "source": [
        "A la matriz $R$ se la conoce como $rref(A)$ por sus siglas en inglés que refieren a *row reduced echelon form*, es decir forma reducida por filas de $A$, o matriz escalonada."
      ],
      "metadata": {
        "id": "vODk0Y5ylVuS"
      }
    },
    {
      "cell_type": "markdown",
      "source": [
        "Es fácil visualizar en el ejemplo $5$ que $C = A$ y que $R = I$ (matriz identidad). Por otro lado, el ejemplo $6$ solo tiene una columna en la matriz $C$ y solo una fila en la matriz $R$."
      ],
      "metadata": {
        "id": "QgBKsrmLqYO3"
      }
    },
    {
      "cell_type": "markdown",
      "source": [
        "$ \\ A = \n",
        "{\\begin{bmatrix}\n",
        "1 \\quad 2 \\quad 5 \\\\\n",
        "1 \\quad 2 \\quad 5 \\\\\n",
        "1 \\quad 2 \\quad 5 \\\\\n",
        "\\end{bmatrix}} =\n",
        "{\\begin{bmatrix}\n",
        "1 \\\\\n",
        "1 \\\\\n",
        "1 \\\\\n",
        "\\end{bmatrix}}\n",
        "{\\begin{bmatrix}\n",
        "1 \\quad 2 \\quad 5 \\\\\n",
        "\\end{bmatrix}} = C \\ R$"
      ],
      "metadata": {
        "id": "SRhrkYfdqYU0"
      }
    },
    {
      "cell_type": "markdown",
      "source": [
        "Estas tres matrices tienen todas rango $r = 1$. **El número de columnas independientes es igual al número de filas independentes**."
      ],
      "metadata": {
        "id": "Lbj1LlROqYYN"
      }
    },
    {
      "cell_type": "markdown",
      "source": [
        "Este es el **primer teorema del álgebra lineal**, y es cierto para toda matriz. Podemos demostrarlo usando la igualdad $A = C \\ R$. Si en lugar de ver la factorización como combinación de las columnas de $C$ lo vemos como combinación de las filas de $R$ (que es equivalente), podemos entender a la matriz $R$ como una base del espacio fila de $A$. Para hablar de base es necesario que los vectores (vectores fila en este caso) sean linealmente independientes y efectivamente lo son: si observamos la matriz $R$ del ejemplo $5$, podemos notar los unos y ceros que evidencian que ninguna fila es combinación lineal de las otras."
      ],
      "metadata": {
        "id": "FyI4UhJ-lVxO"
      }
    },
    {
      "cell_type": "markdown",
      "source": [
        "Entonces, el espacio columna y el espacio fila de $A$ tienen ambos dimensión $r$, con $r$ vectores base: las columnas de $C$ y las filas de $R$, respectivamente."
      ],
      "metadata": {
        "id": "dzAZS6fEyNhC"
      }
    },
    {
      "cell_type": "markdown",
      "source": [
        "## **COMENTARIOS ADICIONALES**"
      ],
      "metadata": {
        "id": "Tc57r7pFzlgo"
      }
    },
    {
      "cell_type": "markdown",
      "source": [
        "### **EJEMPLO DE $A = C R$**"
      ],
      "metadata": {
        "id": "8srth-gzz1Cd"
      }
    },
    {
      "cell_type": "markdown",
      "source": [
        "$ \\ A = \n",
        "{\\begin{bmatrix}\n",
        "1 \\quad 4 \\quad 7 \\\\\n",
        "2 \\quad 5 \\quad 8 \\\\\n",
        "3 \\quad 6 \\quad 9 \\\\\n",
        "\\end{bmatrix}} =\n",
        "{\\begin{bmatrix}\n",
        "1 \\quad 4 \\\\\n",
        "2 \\quad 5 \\\\\n",
        "3 \\quad 6 \\\\\n",
        "\\end{bmatrix}}\n",
        "{\\begin{bmatrix}\n",
        "1 \\quad 0 \\quad -1 \\\\\n",
        "0 \\quad 1 \\quad  \\quad 2 \\\\\n",
        "\\end{bmatrix}} = C \\ R$"
      ],
      "metadata": {
        "id": "L1LoZnr10Bb-"
      }
    },
    {
      "cell_type": "markdown",
      "source": [
        "* $C$ tiene $2$ columnas independientes de $A$.\n",
        "* $R$ tiene $2$ filas independientes, incluyendo una $I$.\n",
        "* Columna $3$ de $A = -1$ (columna $1$) $+$ $2$ (columna $2$)."
      ],
      "metadata": {
        "id": "2RbKN_339FSv"
      }
    },
    {
      "cell_type": "markdown",
      "source": [
        "Las tres matrices tienen rango $r = 2$. $C$ contiene una base del espacio columna de $A$. $R$ contiene una base del espacio fila de $A$. Ambos espacios son planos en el espacio tridimensional. $A = C \\ R$ nos lleva a una forma relacionada con tres factores que trata a las columnas y a las filas de manera simétrica."
      ],
      "metadata": {
        "id": "ytAqhC_TAWOc"
      }
    },
    {
      "cell_type": "markdown",
      "source": [
        "$ \\ A = \n",
        "{\\begin{bmatrix}\n",
        "1 \\quad 4 \\quad 7 \\\\\n",
        "2 \\quad 5 \\quad 8 \\\\\n",
        "3 \\quad 6 \\quad 9 \\\\\n",
        "\\end{bmatrix}} =\n",
        "{\\begin{bmatrix}\n",
        "1 \\quad 4 \\\\\n",
        "2 \\quad 5 \\\\\n",
        "\\end{bmatrix}}^{-1}\n",
        "{\\begin{bmatrix}\n",
        "1 \\quad 4 \\quad 7 \\\\\n",
        "2 \\quad 5 \\quad 8 \\\\\n",
        "\\end{bmatrix}}$"
      ],
      "metadata": {
        "id": "WxVOX8TpBFV1"
      }
    },
    {
      "cell_type": "markdown",
      "source": [
        "* $2$ columnas de $A$ en $C$.\n",
        "* $2$ filas de $A$ en la nueva $R$.\n",
        "* Invertir el solapamiento de $2$ por $2$."
      ],
      "metadata": {
        "id": "8uy2MyHUCGbz"
      }
    },
    {
      "cell_type": "markdown",
      "source": [
        "Aquí vemos que aparece la matriz inversa: $A$ x $A^{-1}$ $=$ identidad $I$."
      ],
      "metadata": {
        "id": "2B6_cnk1CkqL"
      }
    },
    {
      "cell_type": "markdown",
      "source": [
        "### **EJEMPLO DE MATRIZ INVERSA DE $2$ x $2$** ###"
      ],
      "metadata": {
        "id": "lW4JT1jdCku6"
      }
    },
    {
      "cell_type": "markdown",
      "source": [
        "${\\begin{bmatrix}\n",
        "a \\quad b \\\\\n",
        "c \\quad d \\\\\n",
        "\\end{bmatrix}}^{-1} = \n",
        "\\begin{align}\n",
        "\\frac{1}{a \\ d - b \\ c}\n",
        "\\end{align}\n",
        "{\\begin{bmatrix}\n",
        "\\quad d \\quad -b \\ \\\\\n",
        "-c \\quad \\quad a \\ \\\\\n",
        "\\end{bmatrix}}$"
      ],
      "metadata": {
        "id": "PtV9fE06Cky9"
      }
    },
    {
      "cell_type": "markdown",
      "source": [
        "* No hay inversa si $ a \\ d = b \\ c$."
      ],
      "metadata": {
        "id": "qiSzIRSdGyX3"
      }
    },
    {
      "cell_type": "markdown",
      "source": [
        "Este nuevo enfoque trabaja directamente con la multiplicación matricial $C \\ R$. Produce combinaciones de las columnas de $C$. Y cuando miramos a todas las *combinaciones* de dos columnas, completamos un plano. SI la tercera columna de $A$ no hubiera estado sobre ese plano, $A$ habría sido invertible: rango $3$."
      ],
      "metadata": {
        "id": "qwsxuqrRG7g-"
      }
    }
  ]
}