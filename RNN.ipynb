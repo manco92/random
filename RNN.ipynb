{
  "nbformat": 4,
  "nbformat_minor": 0,
  "metadata": {
    "colab": {
      "provenance": []
    },
    "kernelspec": {
      "name": "python3",
      "display_name": "Python 3"
    },
    "language_info": {
      "name": "python"
    }
  },
  "cells": [
    {
      "cell_type": "code",
      "execution_count": 1,
      "metadata": {
        "id": "U-QNHjWTG9Gx"
      },
      "outputs": [],
      "source": [
        "import re\n",
        "import numpy as np\n",
        "import matplotlib.pyplot as plt\n",
        "import seaborn as sns\n",
        "\n",
        "import torch\n",
        "import torch.nn.functional as F\n",
        "import torch.nn as nn\n",
        "from torch.utils.data import Dataset, DataLoader"
      ]
    },
    {
      "cell_type": "code",
      "source": [
        "import os\n",
        "import platform\n",
        "\n",
        "if os.access('torch_helpers.py', os.F_OK) is False:\n",
        "    if platform.system() == 'Windows':\n",
        "        !curl !wget https://raw.githubusercontent.com/FIUBA-Posgrado-Inteligencia-Artificial/procesamiento_lenguaje_natural/main/scripts/torch_helpers.py > torch_helpers.py\n",
        "    else:\n",
        "        !wget torch_helpers.py https://raw.githubusercontent.com/FIUBA-Posgrado-Inteligencia-Artificial/procesamiento_lenguaje_natural/main/scripts/torch_helpers.py"
      ],
      "metadata": {
        "colab": {
          "base_uri": "https://localhost:8080/"
        },
        "id": "gUbWkfSNG_kL",
        "outputId": "4e8afbf4-6ea5-448a-cd75-80195e55f728"
      },
      "execution_count": 12,
      "outputs": [
        {
          "output_type": "stream",
          "name": "stdout",
          "text": [
            "--2022-11-12 04:34:04--  http://torch_helpers.py/\n",
            "Resolving torch_helpers.py (torch_helpers.py)... failed: Name or service not known.\n",
            "wget: unable to resolve host address ‘torch_helpers.py’\n",
            "--2022-11-12 04:34:04--  https://raw.githubusercontent.com/FIUBA-Posgrado-Inteligencia-Artificial/procesamiento_lenguaje_natural/main/scripts/torch_helpers.py\n",
            "Resolving raw.githubusercontent.com (raw.githubusercontent.com)... 185.199.109.133, 185.199.111.133, 185.199.108.133, ...\n",
            "Connecting to raw.githubusercontent.com (raw.githubusercontent.com)|185.199.109.133|:443... connected.\n",
            "HTTP request sent, awaiting response... 200 OK\n",
            "Length: 23883 (23K) [text/plain]\n",
            "Saving to: ‘torch_helpers.py’\n",
            "\n",
            "\rtorch_helpers.py      0%[                    ]       0  --.-KB/s               \rtorch_helpers.py    100%[===================>]  23.32K  --.-KB/s    in 0.002s  \n",
            "\n",
            "2022-11-12 04:34:04 (13.2 MB/s) - ‘torch_helpers.py’ saved [23883/23883]\n",
            "\n",
            "FINISHED --2022-11-12 04:34:04--\n",
            "Total wall clock time: 0.2s\n",
            "Downloaded: 1 files, 23K in 0.002s (13.2 MB/s)\n"
          ]
        }
      ]
    },
    {
      "cell_type": "code",
      "source": [
        "!pip3 install torchinfo\n",
        "from torchinfo import summary"
      ],
      "metadata": {
        "colab": {
          "base_uri": "https://localhost:8080/"
        },
        "id": "-xwtRsYiHrPl",
        "outputId": "d55fe1ee-b289-472a-99d4-cb5337e3e0c7"
      },
      "execution_count": 14,
      "outputs": [
        {
          "output_type": "stream",
          "name": "stdout",
          "text": [
            "Looking in indexes: https://pypi.org/simple, https://us-python.pkg.dev/colab-wheels/public/simple/\n",
            "Collecting torchinfo\n",
            "  Downloading torchinfo-1.7.1-py3-none-any.whl (22 kB)\n",
            "Installing collected packages: torchinfo\n",
            "Successfully installed torchinfo-1.7.1\n"
          ]
        }
      ]
    },
    {
      "cell_type": "code",
      "source": [
        "X = [[0.00, 0.010, 0.019]]\n",
        "for i in range(20):\n",
        "    rand = round(np.random.uniform(0, 0.05), 3)\n",
        "    t = round(X[i][2] + rand, 3)\n",
        "    r = list([X[i][1], X[i][2], t])\n",
        "    X.append(r)"
      ],
      "metadata": {
        "id": "0Y_pCDZTG_p4"
      },
      "execution_count": 32,
      "outputs": []
    },
    {
      "cell_type": "code",
      "source": [
        "y = [X[i + 1][2] for i in range(20)]\n",
        "X = X[:-1]"
      ],
      "metadata": {
        "id": "0XvQRdQmG_r3"
      },
      "execution_count": 33,
      "outputs": []
    },
    {
      "cell_type": "code",
      "source": [
        "X"
      ],
      "metadata": {
        "colab": {
          "base_uri": "https://localhost:8080/"
        },
        "id": "c030mKigHJt_",
        "outputId": "9d381cc7-8998-42c7-dcd1-5cfa0aba6c8f"
      },
      "execution_count": 34,
      "outputs": [
        {
          "output_type": "execute_result",
          "data": {
            "text/plain": [
              "[[0.0, 0.01, 0.019],\n",
              " [0.01, 0.019, 0.039],\n",
              " [0.019, 0.039, 0.065],\n",
              " [0.039, 0.065, 0.073],\n",
              " [0.065, 0.073, 0.104],\n",
              " [0.073, 0.104, 0.119],\n",
              " [0.104, 0.119, 0.122],\n",
              " [0.119, 0.122, 0.172],\n",
              " [0.122, 0.172, 0.179],\n",
              " [0.172, 0.179, 0.212],\n",
              " [0.179, 0.212, 0.217],\n",
              " [0.212, 0.217, 0.231],\n",
              " [0.217, 0.231, 0.245],\n",
              " [0.231, 0.245, 0.281],\n",
              " [0.245, 0.281, 0.329],\n",
              " [0.281, 0.329, 0.365],\n",
              " [0.329, 0.365, 0.381],\n",
              " [0.365, 0.381, 0.399],\n",
              " [0.381, 0.399, 0.413],\n",
              " [0.399, 0.413, 0.421]]"
            ]
          },
          "metadata": {},
          "execution_count": 34
        }
      ]
    },
    {
      "cell_type": "code",
      "source": [
        "def train(model, train_loader, valid_loader, optimizer, criterion, epochs=100):\n",
        "    # Defino listas para realizar graficas de los resultados\n",
        "    train_loss = []\n",
        "    valid_loss = []\n",
        "\n",
        "    # Defino mi loop de entrenamiento\n",
        "\n",
        "    for epoch in range(epochs):\n",
        "\n",
        "        epoch_train_loss = 0.0\n",
        "        epoch_train_accuracy = 0.0\n",
        "\n",
        "        for train_data, train_target in train_loader:\n",
        "\n",
        "            # Seteo los gradientes en cero ya que, por defecto, PyTorch\n",
        "            # los va acumulando\n",
        "            optimizer.zero_grad()\n",
        "\n",
        "            output = model(train_data)\n",
        "\n",
        "            # Computo el error de la salida comparando contra las etiquetas\n",
        "            loss = criterion(output, train_target)\n",
        "\n",
        "            # Almaceno el error del batch para luego tener el error promedio de la epoca\n",
        "            epoch_train_loss += loss.item()\n",
        "\n",
        "            # Computo el nuevo set de gradientes a lo largo de toda la red\n",
        "            loss.backward()\n",
        "\n",
        "            # Realizo el paso de optimizacion actualizando los parametros de toda la red\n",
        "            optimizer.step()\n",
        "\n",
        "        # Calculo la media de error para la epoca de entrenamiento.\n",
        "        # La longitud de train_loader es igual a la cantidad de batches dentro de una epoca.\n",
        "        epoch_train_loss = epoch_train_loss / len(train_loader)\n",
        "        train_loss.append(epoch_train_loss)\n",
        "\n",
        "        # Realizo el paso de validación computando error y accuracy, y\n",
        "        # almacenando los valores para imprimirlos y graficarlos\n",
        "        valid_data, valid_target = iter(valid_loader).next()\n",
        "        output = model(valid_data)\n",
        "        \n",
        "        epoch_valid_loss = criterion(output, valid_target).item()\n",
        "        valid_loss.append(epoch_valid_loss)\n",
        "\n",
        "        print(f\"Epoch: {epoch+1}/{epochs} - Train loss {epoch_train_loss:.3f} - Valid Loss {epoch_valid_loss:.3f}\")\n",
        "\n",
        "    history = {\n",
        "        \"loss\": train_loss,\n",
        "        \"val_loss\": valid_loss,\n",
        "    }\n",
        "    return history"
      ],
      "metadata": {
        "id": "09Jz7QY1HJw2"
      },
      "execution_count": 5,
      "outputs": []
    },
    {
      "cell_type": "code",
      "source": [
        "# Cada dato X lo transformarmos en una matriz de 1 fila 1 columna (1x1)\n",
        "X = np.array(X).reshape(len(X), len(X[0]), 1)\n",
        "print(\"datos X:\", X)"
      ],
      "metadata": {
        "colab": {
          "base_uri": "https://localhost:8080/"
        },
        "id": "lAYpRgmkHODG",
        "outputId": "0baebf4e-ed39-4250-eb22-1987d846cb66"
      },
      "execution_count": 35,
      "outputs": [
        {
          "output_type": "stream",
          "name": "stdout",
          "text": [
            "datos X: [[[0.   ]\n",
            "  [0.01 ]\n",
            "  [0.019]]\n",
            "\n",
            " [[0.01 ]\n",
            "  [0.019]\n",
            "  [0.039]]\n",
            "\n",
            " [[0.019]\n",
            "  [0.039]\n",
            "  [0.065]]\n",
            "\n",
            " [[0.039]\n",
            "  [0.065]\n",
            "  [0.073]]\n",
            "\n",
            " [[0.065]\n",
            "  [0.073]\n",
            "  [0.104]]\n",
            "\n",
            " [[0.073]\n",
            "  [0.104]\n",
            "  [0.119]]\n",
            "\n",
            " [[0.104]\n",
            "  [0.119]\n",
            "  [0.122]]\n",
            "\n",
            " [[0.119]\n",
            "  [0.122]\n",
            "  [0.172]]\n",
            "\n",
            " [[0.122]\n",
            "  [0.172]\n",
            "  [0.179]]\n",
            "\n",
            " [[0.172]\n",
            "  [0.179]\n",
            "  [0.212]]\n",
            "\n",
            " [[0.179]\n",
            "  [0.212]\n",
            "  [0.217]]\n",
            "\n",
            " [[0.212]\n",
            "  [0.217]\n",
            "  [0.231]]\n",
            "\n",
            " [[0.217]\n",
            "  [0.231]\n",
            "  [0.245]]\n",
            "\n",
            " [[0.231]\n",
            "  [0.245]\n",
            "  [0.281]]\n",
            "\n",
            " [[0.245]\n",
            "  [0.281]\n",
            "  [0.329]]\n",
            "\n",
            " [[0.281]\n",
            "  [0.329]\n",
            "  [0.365]]\n",
            "\n",
            " [[0.329]\n",
            "  [0.365]\n",
            "  [0.381]]\n",
            "\n",
            " [[0.365]\n",
            "  [0.381]\n",
            "  [0.399]]\n",
            "\n",
            " [[0.381]\n",
            "  [0.399]\n",
            "  [0.413]]\n",
            "\n",
            " [[0.399]\n",
            "  [0.413]\n",
            "  [0.421]]]\n"
          ]
        }
      ]
    },
    {
      "cell_type": "code",
      "source": [
        "# (batch size, seq_len, input_size)\n",
        "X.shape"
      ],
      "metadata": {
        "colab": {
          "base_uri": "https://localhost:8080/"
        },
        "id": "qE3uI0UsHOFt",
        "outputId": "6dc9149a-69bf-46da-875c-7f9fa2f1be42"
      },
      "execution_count": 37,
      "outputs": [
        {
          "output_type": "execute_result",
          "data": {
            "text/plain": [
              "(20, 3, 1)"
            ]
          },
          "metadata": {},
          "execution_count": 37
        }
      ]
    },
    {
      "cell_type": "code",
      "source": [
        "y = np.asanyarray(y)\n",
        "y.shape"
      ],
      "metadata": {
        "colab": {
          "base_uri": "https://localhost:8080/"
        },
        "id": "GlEjaMYcHOH6",
        "outputId": "5c35e18b-7bf8-4346-fba1-fe3f3308b415"
      },
      "execution_count": 38,
      "outputs": [
        {
          "output_type": "execute_result",
          "data": {
            "text/plain": [
              "(20,)"
            ]
          },
          "metadata": {},
          "execution_count": 38
        }
      ]
    },
    {
      "cell_type": "code",
      "source": [
        "class Data(Dataset):\n",
        "    def __init__(self, x, y):\n",
        "        # Convertir los arrays de numpy a tensores. \n",
        "        # pytorch espera en general entradas 32bits\n",
        "        self.x = torch.from_numpy(x.astype(np.float32))\n",
        "        # las loss unfction esperan la salida float\n",
        "        self.y = torch.from_numpy(y.astype(np.float32)).float().view(-1, 1)\n",
        "\n",
        "        self.len = self.y.shape[0]\n",
        "\n",
        "    def __getitem__(self,index):\n",
        "        return self.x[index], self.y[index]\n",
        "\n",
        "    def __len__(self):\n",
        "        return self.len\n",
        "\n",
        "data_set = Data(X, y)\n",
        "\n",
        "input_dim = data_set.x.shape[1:]\n",
        "seq_length = input_dim[0]\n",
        "input_size = input_dim[1]\n",
        "print(\"Input dim\", input_dim)\n",
        "print(\"seq_length:\", seq_length)\n",
        "print(\"input_size:\", input_size)\n",
        "\n",
        "output_dim = data_set.y.shape[1]\n",
        "print(\"Output dim\", output_dim)"
      ],
      "metadata": {
        "colab": {
          "base_uri": "https://localhost:8080/"
        },
        "id": "SwrXg-57HJzV",
        "outputId": "e6d3f518-3309-4fb7-9052-ae7f3bae8f7a"
      },
      "execution_count": 90,
      "outputs": [
        {
          "output_type": "stream",
          "name": "stdout",
          "text": [
            "Input dim torch.Size([3, 1])\n",
            "seq_length: 3\n",
            "input_size: 1\n",
            "Output dim 1\n"
          ]
        }
      ]
    },
    {
      "cell_type": "code",
      "source": [
        "next(iter(data_set))"
      ],
      "metadata": {
        "colab": {
          "base_uri": "https://localhost:8080/"
        },
        "id": "X6hatVm3PbKn",
        "outputId": "f6e68012-1807-41f0-fded-64ec4b2d3c27"
      },
      "execution_count": 91,
      "outputs": [
        {
          "output_type": "execute_result",
          "data": {
            "text/plain": [
              "(tensor([[0.0000],\n",
              "         [0.0100],\n",
              "         [0.0190]]), tensor([0.0390]))"
            ]
          },
          "metadata": {},
          "execution_count": 91
        }
      ]
    },
    {
      "cell_type": "code",
      "source": [
        "y[0]"
      ],
      "metadata": {
        "colab": {
          "base_uri": "https://localhost:8080/"
        },
        "id": "GDfAcGJQPmSs",
        "outputId": "7911234c-bc98-4b0a-cd15-7be38e50e079"
      },
      "execution_count": 92,
      "outputs": [
        {
          "output_type": "execute_result",
          "data": {
            "text/plain": [
              "0.039"
            ]
          },
          "metadata": {},
          "execution_count": 92
        }
      ]
    },
    {
      "cell_type": "code",
      "source": [
        "torch.manual_seed(42)\n",
        "valid_set_size = int(data_set.len * 0.2)\n",
        "train_set_size = data_set.len - valid_set_size\n",
        "\n",
        "# Cuando trabajmos con una serie temporal no mezclamos (shuffle) los datos\n",
        "train_set = torch.utils.data.Subset(data_set, range(train_set_size))\n",
        "valid_set = torch.utils.data.Subset(data_set, range(train_set_size, data_set.len))\n",
        "\n",
        "print(\"Tamaño del conjunto de entrenamiento:\", len(train_set))\n",
        "print(\"Tamaño del conjunto de validacion:\", len(valid_set))\n",
        "\n",
        "train_loader = torch.utils.data.DataLoader(train_set, batch_size=len(train_set), shuffle=False)\n",
        "valid_loader = torch.utils.data.DataLoader(valid_set, batch_size=len(valid_set), shuffle=False)"
      ],
      "metadata": {
        "colab": {
          "base_uri": "https://localhost:8080/"
        },
        "id": "SDOXLFpKHJ1M",
        "outputId": "9c33b314-c16a-471c-d3af-d55c8944be73"
      },
      "execution_count": 93,
      "outputs": [
        {
          "output_type": "stream",
          "name": "stdout",
          "text": [
            "Tamaño del conjunto de entrenamiento: 16\n",
            "Tamaño del conjunto de validacion: 4\n"
          ]
        }
      ]
    },
    {
      "cell_type": "code",
      "source": [
        "from torch_helpers import CustomLSTM\n",
        "\n",
        "class Model1(nn.Module):\n",
        "    def __init__(self, input_size, output_dim):\n",
        "        super().__init__()\n",
        "        self.lstm1 = CustomLSTM(input_size=input_size, hidden_size=64, activation=nn.ReLU()) # LSTM layer\n",
        "        self.fc = nn.Linear(in_features=64, out_features=output_dim) #  # Fully connected layer\n",
        "        \n",
        "    def forward(self, x):\n",
        "        lstm_output, _ = self.lstm1(x)\n",
        "        out = self.fc(lstm_output[:,-1,:]) # take last output (last seq)\n",
        "        return out\n",
        "\n",
        "model1 = Model1(input_size=input_size, output_dim=output_dim)\n",
        "\n",
        "# Crear el optimizador la una función de error\n",
        "model1_optimizer = torch.optim.Adam(model1.parameters(), lr=0.001)\n",
        "model1_criterion = nn.MSELoss()  # mean squared error\n",
        "\n",
        "summary(model1, input_size=(1, seq_length, input_size))"
      ],
      "metadata": {
        "colab": {
          "base_uri": "https://localhost:8080/"
        },
        "id": "LrGB5zPcHVry",
        "outputId": "2b78e89c-7e58-452e-e2a4-9d52c10a3f1f"
      },
      "execution_count": 107,
      "outputs": [
        {
          "output_type": "execute_result",
          "data": {
            "text/plain": [
              "==========================================================================================\n",
              "Layer (type:depth-idx)                   Output Shape              Param #\n",
              "==========================================================================================\n",
              "Model1                                   [1, 1]                    --\n",
              "├─CustomLSTM: 1-1                        [1, 3, 64]                16,896\n",
              "│    └─Sigmoid: 2-1                      [1, 64]                   --\n",
              "│    └─Sigmoid: 2-2                      [1, 64]                   --\n",
              "│    └─ReLU: 2-3                         [1, 64]                   --\n",
              "│    └─Sigmoid: 2-4                      [1, 64]                   --\n",
              "│    └─ReLU: 2-5                         [1, 64]                   --\n",
              "│    └─Sigmoid: 2-6                      [1, 64]                   --\n",
              "│    └─Sigmoid: 2-7                      [1, 64]                   --\n",
              "│    └─ReLU: 2-8                         [1, 64]                   --\n",
              "│    └─Sigmoid: 2-9                      [1, 64]                   --\n",
              "│    └─ReLU: 2-10                        [1, 64]                   --\n",
              "│    └─Sigmoid: 2-11                     [1, 64]                   --\n",
              "│    └─Sigmoid: 2-12                     [1, 64]                   --\n",
              "│    └─ReLU: 2-13                        [1, 64]                   --\n",
              "│    └─Sigmoid: 2-14                     [1, 64]                   --\n",
              "│    └─ReLU: 2-15                        [1, 64]                   --\n",
              "├─Linear: 1-2                            [1, 1]                    65\n",
              "==========================================================================================\n",
              "Total params: 16,961\n",
              "Trainable params: 16,961\n",
              "Non-trainable params: 0\n",
              "Total mult-adds (M): 0.00\n",
              "==========================================================================================\n",
              "Input size (MB): 0.00\n",
              "Forward/backward pass size (MB): 0.00\n",
              "Params size (MB): 0.00\n",
              "Estimated Total Size (MB): 0.00\n",
              "=========================================================================================="
            ]
          },
          "metadata": {},
          "execution_count": 107
        }
      ]
    },
    {
      "cell_type": "code",
      "source": [
        "history1 = train(model1,\n",
        "                train_loader,\n",
        "                valid_loader,\n",
        "                model1_optimizer,\n",
        "                model1_criterion,\n",
        "                epochs=500\n",
        "                )"
      ],
      "metadata": {
        "colab": {
          "base_uri": "https://localhost:8080/"
        },
        "id": "Iux3zYqmHtlX",
        "outputId": "29cf9f9d-2828-4bc3-d73c-c7747630314c"
      },
      "execution_count": 108,
      "outputs": [
        {
          "output_type": "stream",
          "name": "stdout",
          "text": [
            "Epoch: 1/500 - Train loss 0.019 - Valid Loss 0.097\n",
            "Epoch: 2/500 - Train loss 0.019 - Valid Loss 0.094\n",
            "Epoch: 3/500 - Train loss 0.018 - Valid Loss 0.092\n",
            "Epoch: 4/500 - Train loss 0.017 - Valid Loss 0.090\n",
            "Epoch: 5/500 - Train loss 0.017 - Valid Loss 0.088\n",
            "Epoch: 6/500 - Train loss 0.016 - Valid Loss 0.086\n",
            "Epoch: 7/500 - Train loss 0.016 - Valid Loss 0.084\n",
            "Epoch: 8/500 - Train loss 0.015 - Valid Loss 0.082\n",
            "Epoch: 9/500 - Train loss 0.015 - Valid Loss 0.080\n",
            "Epoch: 10/500 - Train loss 0.014 - Valid Loss 0.078\n",
            "Epoch: 11/500 - Train loss 0.014 - Valid Loss 0.076\n",
            "Epoch: 12/500 - Train loss 0.013 - Valid Loss 0.074\n",
            "Epoch: 13/500 - Train loss 0.013 - Valid Loss 0.072\n",
            "Epoch: 14/500 - Train loss 0.013 - Valid Loss 0.070\n",
            "Epoch: 15/500 - Train loss 0.012 - Valid Loss 0.068\n",
            "Epoch: 16/500 - Train loss 0.012 - Valid Loss 0.067\n",
            "Epoch: 17/500 - Train loss 0.012 - Valid Loss 0.065\n",
            "Epoch: 18/500 - Train loss 0.011 - Valid Loss 0.063\n",
            "Epoch: 19/500 - Train loss 0.011 - Valid Loss 0.062\n",
            "Epoch: 20/500 - Train loss 0.011 - Valid Loss 0.060\n",
            "Epoch: 21/500 - Train loss 0.011 - Valid Loss 0.059\n",
            "Epoch: 22/500 - Train loss 0.011 - Valid Loss 0.057\n",
            "Epoch: 23/500 - Train loss 0.010 - Valid Loss 0.056\n",
            "Epoch: 24/500 - Train loss 0.010 - Valid Loss 0.054\n",
            "Epoch: 25/500 - Train loss 0.010 - Valid Loss 0.053\n",
            "Epoch: 26/500 - Train loss 0.010 - Valid Loss 0.051\n",
            "Epoch: 27/500 - Train loss 0.010 - Valid Loss 0.050\n",
            "Epoch: 28/500 - Train loss 0.010 - Valid Loss 0.049\n",
            "Epoch: 29/500 - Train loss 0.010 - Valid Loss 0.048\n",
            "Epoch: 30/500 - Train loss 0.009 - Valid Loss 0.047\n",
            "Epoch: 31/500 - Train loss 0.009 - Valid Loss 0.046\n",
            "Epoch: 32/500 - Train loss 0.009 - Valid Loss 0.045\n",
            "Epoch: 33/500 - Train loss 0.009 - Valid Loss 0.044\n",
            "Epoch: 34/500 - Train loss 0.009 - Valid Loss 0.043\n",
            "Epoch: 35/500 - Train loss 0.009 - Valid Loss 0.042\n",
            "Epoch: 36/500 - Train loss 0.009 - Valid Loss 0.041\n",
            "Epoch: 37/500 - Train loss 0.009 - Valid Loss 0.041\n",
            "Epoch: 38/500 - Train loss 0.009 - Valid Loss 0.040\n",
            "Epoch: 39/500 - Train loss 0.009 - Valid Loss 0.039\n",
            "Epoch: 40/500 - Train loss 0.009 - Valid Loss 0.039\n",
            "Epoch: 41/500 - Train loss 0.009 - Valid Loss 0.038\n",
            "Epoch: 42/500 - Train loss 0.009 - Valid Loss 0.038\n",
            "Epoch: 43/500 - Train loss 0.009 - Valid Loss 0.037\n",
            "Epoch: 44/500 - Train loss 0.009 - Valid Loss 0.037\n",
            "Epoch: 45/500 - Train loss 0.009 - Valid Loss 0.037\n",
            "Epoch: 46/500 - Train loss 0.009 - Valid Loss 0.036\n",
            "Epoch: 47/500 - Train loss 0.009 - Valid Loss 0.036\n",
            "Epoch: 48/500 - Train loss 0.009 - Valid Loss 0.036\n",
            "Epoch: 49/500 - Train loss 0.009 - Valid Loss 0.036\n",
            "Epoch: 50/500 - Train loss 0.009 - Valid Loss 0.036\n",
            "Epoch: 51/500 - Train loss 0.009 - Valid Loss 0.036\n",
            "Epoch: 52/500 - Train loss 0.009 - Valid Loss 0.036\n",
            "Epoch: 53/500 - Train loss 0.009 - Valid Loss 0.036\n",
            "Epoch: 54/500 - Train loss 0.009 - Valid Loss 0.036\n",
            "Epoch: 55/500 - Train loss 0.009 - Valid Loss 0.036\n",
            "Epoch: 56/500 - Train loss 0.009 - Valid Loss 0.036\n",
            "Epoch: 57/500 - Train loss 0.009 - Valid Loss 0.036\n",
            "Epoch: 58/500 - Train loss 0.009 - Valid Loss 0.036\n",
            "Epoch: 59/500 - Train loss 0.008 - Valid Loss 0.036\n",
            "Epoch: 60/500 - Train loss 0.008 - Valid Loss 0.036\n",
            "Epoch: 61/500 - Train loss 0.008 - Valid Loss 0.036\n",
            "Epoch: 62/500 - Train loss 0.008 - Valid Loss 0.036\n",
            "Epoch: 63/500 - Train loss 0.008 - Valid Loss 0.036\n",
            "Epoch: 64/500 - Train loss 0.008 - Valid Loss 0.036\n",
            "Epoch: 65/500 - Train loss 0.008 - Valid Loss 0.036\n",
            "Epoch: 66/500 - Train loss 0.008 - Valid Loss 0.035\n",
            "Epoch: 67/500 - Train loss 0.008 - Valid Loss 0.035\n",
            "Epoch: 68/500 - Train loss 0.008 - Valid Loss 0.035\n",
            "Epoch: 69/500 - Train loss 0.008 - Valid Loss 0.035\n",
            "Epoch: 70/500 - Train loss 0.008 - Valid Loss 0.035\n",
            "Epoch: 71/500 - Train loss 0.008 - Valid Loss 0.035\n",
            "Epoch: 72/500 - Train loss 0.008 - Valid Loss 0.034\n",
            "Epoch: 73/500 - Train loss 0.008 - Valid Loss 0.034\n",
            "Epoch: 74/500 - Train loss 0.008 - Valid Loss 0.034\n",
            "Epoch: 75/500 - Train loss 0.008 - Valid Loss 0.034\n",
            "Epoch: 76/500 - Train loss 0.008 - Valid Loss 0.033\n",
            "Epoch: 77/500 - Train loss 0.008 - Valid Loss 0.033\n",
            "Epoch: 78/500 - Train loss 0.008 - Valid Loss 0.033\n",
            "Epoch: 79/500 - Train loss 0.008 - Valid Loss 0.032\n",
            "Epoch: 80/500 - Train loss 0.008 - Valid Loss 0.032\n",
            "Epoch: 81/500 - Train loss 0.008 - Valid Loss 0.032\n",
            "Epoch: 82/500 - Train loss 0.008 - Valid Loss 0.031\n",
            "Epoch: 83/500 - Train loss 0.007 - Valid Loss 0.031\n",
            "Epoch: 84/500 - Train loss 0.007 - Valid Loss 0.031\n",
            "Epoch: 85/500 - Train loss 0.007 - Valid Loss 0.030\n",
            "Epoch: 86/500 - Train loss 0.007 - Valid Loss 0.030\n",
            "Epoch: 87/500 - Train loss 0.007 - Valid Loss 0.030\n",
            "Epoch: 88/500 - Train loss 0.007 - Valid Loss 0.029\n",
            "Epoch: 89/500 - Train loss 0.007 - Valid Loss 0.029\n",
            "Epoch: 90/500 - Train loss 0.007 - Valid Loss 0.029\n",
            "Epoch: 91/500 - Train loss 0.007 - Valid Loss 0.028\n",
            "Epoch: 92/500 - Train loss 0.007 - Valid Loss 0.028\n",
            "Epoch: 93/500 - Train loss 0.007 - Valid Loss 0.027\n",
            "Epoch: 94/500 - Train loss 0.007 - Valid Loss 0.027\n",
            "Epoch: 95/500 - Train loss 0.007 - Valid Loss 0.027\n",
            "Epoch: 96/500 - Train loss 0.007 - Valid Loss 0.026\n",
            "Epoch: 97/500 - Train loss 0.007 - Valid Loss 0.026\n",
            "Epoch: 98/500 - Train loss 0.007 - Valid Loss 0.026\n",
            "Epoch: 99/500 - Train loss 0.006 - Valid Loss 0.025\n",
            "Epoch: 100/500 - Train loss 0.006 - Valid Loss 0.025\n",
            "Epoch: 101/500 - Train loss 0.006 - Valid Loss 0.025\n",
            "Epoch: 102/500 - Train loss 0.006 - Valid Loss 0.024\n",
            "Epoch: 103/500 - Train loss 0.006 - Valid Loss 0.024\n",
            "Epoch: 104/500 - Train loss 0.006 - Valid Loss 0.023\n",
            "Epoch: 105/500 - Train loss 0.006 - Valid Loss 0.023\n",
            "Epoch: 106/500 - Train loss 0.006 - Valid Loss 0.022\n",
            "Epoch: 107/500 - Train loss 0.006 - Valid Loss 0.022\n",
            "Epoch: 108/500 - Train loss 0.006 - Valid Loss 0.022\n",
            "Epoch: 109/500 - Train loss 0.006 - Valid Loss 0.021\n",
            "Epoch: 110/500 - Train loss 0.006 - Valid Loss 0.021\n",
            "Epoch: 111/500 - Train loss 0.006 - Valid Loss 0.020\n",
            "Epoch: 112/500 - Train loss 0.005 - Valid Loss 0.020\n",
            "Epoch: 113/500 - Train loss 0.005 - Valid Loss 0.019\n",
            "Epoch: 114/500 - Train loss 0.005 - Valid Loss 0.019\n",
            "Epoch: 115/500 - Train loss 0.005 - Valid Loss 0.018\n",
            "Epoch: 116/500 - Train loss 0.005 - Valid Loss 0.018\n",
            "Epoch: 117/500 - Train loss 0.005 - Valid Loss 0.017\n",
            "Epoch: 118/500 - Train loss 0.005 - Valid Loss 0.017\n",
            "Epoch: 119/500 - Train loss 0.005 - Valid Loss 0.016\n",
            "Epoch: 120/500 - Train loss 0.005 - Valid Loss 0.016\n",
            "Epoch: 121/500 - Train loss 0.005 - Valid Loss 0.015\n",
            "Epoch: 122/500 - Train loss 0.004 - Valid Loss 0.015\n",
            "Epoch: 123/500 - Train loss 0.004 - Valid Loss 0.014\n",
            "Epoch: 124/500 - Train loss 0.004 - Valid Loss 0.014\n",
            "Epoch: 125/500 - Train loss 0.004 - Valid Loss 0.013\n",
            "Epoch: 126/500 - Train loss 0.004 - Valid Loss 0.013\n",
            "Epoch: 127/500 - Train loss 0.004 - Valid Loss 0.012\n",
            "Epoch: 128/500 - Train loss 0.004 - Valid Loss 0.012\n",
            "Epoch: 129/500 - Train loss 0.004 - Valid Loss 0.011\n",
            "Epoch: 130/500 - Train loss 0.004 - Valid Loss 0.010\n",
            "Epoch: 131/500 - Train loss 0.003 - Valid Loss 0.010\n",
            "Epoch: 132/500 - Train loss 0.003 - Valid Loss 0.009\n",
            "Epoch: 133/500 - Train loss 0.003 - Valid Loss 0.009\n",
            "Epoch: 134/500 - Train loss 0.003 - Valid Loss 0.008\n",
            "Epoch: 135/500 - Train loss 0.003 - Valid Loss 0.008\n",
            "Epoch: 136/500 - Train loss 0.003 - Valid Loss 0.007\n",
            "Epoch: 137/500 - Train loss 0.003 - Valid Loss 0.007\n",
            "Epoch: 138/500 - Train loss 0.003 - Valid Loss 0.006\n",
            "Epoch: 139/500 - Train loss 0.003 - Valid Loss 0.006\n",
            "Epoch: 140/500 - Train loss 0.002 - Valid Loss 0.005\n",
            "Epoch: 141/500 - Train loss 0.002 - Valid Loss 0.005\n",
            "Epoch: 142/500 - Train loss 0.002 - Valid Loss 0.004\n",
            "Epoch: 143/500 - Train loss 0.002 - Valid Loss 0.004\n",
            "Epoch: 144/500 - Train loss 0.002 - Valid Loss 0.004\n",
            "Epoch: 145/500 - Train loss 0.002 - Valid Loss 0.003\n",
            "Epoch: 146/500 - Train loss 0.002 - Valid Loss 0.003\n",
            "Epoch: 147/500 - Train loss 0.002 - Valid Loss 0.002\n",
            "Epoch: 148/500 - Train loss 0.002 - Valid Loss 0.002\n",
            "Epoch: 149/500 - Train loss 0.001 - Valid Loss 0.002\n",
            "Epoch: 150/500 - Train loss 0.001 - Valid Loss 0.001\n",
            "Epoch: 151/500 - Train loss 0.001 - Valid Loss 0.001\n",
            "Epoch: 152/500 - Train loss 0.001 - Valid Loss 0.001\n",
            "Epoch: 153/500 - Train loss 0.001 - Valid Loss 0.001\n",
            "Epoch: 154/500 - Train loss 0.001 - Valid Loss 0.000\n",
            "Epoch: 155/500 - Train loss 0.001 - Valid Loss 0.000\n",
            "Epoch: 156/500 - Train loss 0.001 - Valid Loss 0.000\n",
            "Epoch: 157/500 - Train loss 0.001 - Valid Loss 0.000\n",
            "Epoch: 158/500 - Train loss 0.001 - Valid Loss 0.000\n",
            "Epoch: 159/500 - Train loss 0.001 - Valid Loss 0.000\n",
            "Epoch: 160/500 - Train loss 0.001 - Valid Loss 0.000\n",
            "Epoch: 161/500 - Train loss 0.001 - Valid Loss 0.000\n",
            "Epoch: 162/500 - Train loss 0.000 - Valid Loss 0.000\n",
            "Epoch: 163/500 - Train loss 0.000 - Valid Loss 0.000\n",
            "Epoch: 164/500 - Train loss 0.000 - Valid Loss 0.000\n",
            "Epoch: 165/500 - Train loss 0.000 - Valid Loss 0.000\n",
            "Epoch: 166/500 - Train loss 0.000 - Valid Loss 0.001\n",
            "Epoch: 167/500 - Train loss 0.000 - Valid Loss 0.001\n",
            "Epoch: 168/500 - Train loss 0.000 - Valid Loss 0.001\n",
            "Epoch: 169/500 - Train loss 0.000 - Valid Loss 0.001\n",
            "Epoch: 170/500 - Train loss 0.000 - Valid Loss 0.001\n",
            "Epoch: 171/500 - Train loss 0.000 - Valid Loss 0.002\n",
            "Epoch: 172/500 - Train loss 0.000 - Valid Loss 0.002\n",
            "Epoch: 173/500 - Train loss 0.000 - Valid Loss 0.002\n",
            "Epoch: 174/500 - Train loss 0.000 - Valid Loss 0.002\n",
            "Epoch: 175/500 - Train loss 0.000 - Valid Loss 0.002\n",
            "Epoch: 176/500 - Train loss 0.000 - Valid Loss 0.003\n",
            "Epoch: 177/500 - Train loss 0.000 - Valid Loss 0.003\n",
            "Epoch: 178/500 - Train loss 0.000 - Valid Loss 0.003\n",
            "Epoch: 179/500 - Train loss 0.000 - Valid Loss 0.003\n",
            "Epoch: 180/500 - Train loss 0.000 - Valid Loss 0.003\n",
            "Epoch: 181/500 - Train loss 0.000 - Valid Loss 0.003\n",
            "Epoch: 182/500 - Train loss 0.000 - Valid Loss 0.003\n",
            "Epoch: 183/500 - Train loss 0.000 - Valid Loss 0.003\n",
            "Epoch: 184/500 - Train loss 0.000 - Valid Loss 0.004\n",
            "Epoch: 185/500 - Train loss 0.000 - Valid Loss 0.004\n",
            "Epoch: 186/500 - Train loss 0.000 - Valid Loss 0.004\n",
            "Epoch: 187/500 - Train loss 0.000 - Valid Loss 0.004\n",
            "Epoch: 188/500 - Train loss 0.000 - Valid Loss 0.004\n",
            "Epoch: 189/500 - Train loss 0.000 - Valid Loss 0.004\n",
            "Epoch: 190/500 - Train loss 0.000 - Valid Loss 0.004\n",
            "Epoch: 191/500 - Train loss 0.000 - Valid Loss 0.003\n",
            "Epoch: 192/500 - Train loss 0.000 - Valid Loss 0.003\n",
            "Epoch: 193/500 - Train loss 0.000 - Valid Loss 0.003\n",
            "Epoch: 194/500 - Train loss 0.000 - Valid Loss 0.003\n",
            "Epoch: 195/500 - Train loss 0.000 - Valid Loss 0.003\n",
            "Epoch: 196/500 - Train loss 0.000 - Valid Loss 0.003\n",
            "Epoch: 197/500 - Train loss 0.000 - Valid Loss 0.003\n",
            "Epoch: 198/500 - Train loss 0.000 - Valid Loss 0.003\n",
            "Epoch: 199/500 - Train loss 0.000 - Valid Loss 0.003\n",
            "Epoch: 200/500 - Train loss 0.000 - Valid Loss 0.003\n",
            "Epoch: 201/500 - Train loss 0.000 - Valid Loss 0.003\n",
            "Epoch: 202/500 - Train loss 0.000 - Valid Loss 0.003\n",
            "Epoch: 203/500 - Train loss 0.000 - Valid Loss 0.003\n",
            "Epoch: 204/500 - Train loss 0.000 - Valid Loss 0.003\n",
            "Epoch: 205/500 - Train loss 0.000 - Valid Loss 0.002\n",
            "Epoch: 206/500 - Train loss 0.000 - Valid Loss 0.002\n",
            "Epoch: 207/500 - Train loss 0.000 - Valid Loss 0.002\n",
            "Epoch: 208/500 - Train loss 0.000 - Valid Loss 0.002\n",
            "Epoch: 209/500 - Train loss 0.000 - Valid Loss 0.002\n",
            "Epoch: 210/500 - Train loss 0.000 - Valid Loss 0.002\n",
            "Epoch: 211/500 - Train loss 0.000 - Valid Loss 0.002\n",
            "Epoch: 212/500 - Train loss 0.000 - Valid Loss 0.002\n",
            "Epoch: 213/500 - Train loss 0.000 - Valid Loss 0.002\n",
            "Epoch: 214/500 - Train loss 0.000 - Valid Loss 0.002\n",
            "Epoch: 215/500 - Train loss 0.000 - Valid Loss 0.002\n",
            "Epoch: 216/500 - Train loss 0.000 - Valid Loss 0.002\n",
            "Epoch: 217/500 - Train loss 0.000 - Valid Loss 0.002\n",
            "Epoch: 218/500 - Train loss 0.000 - Valid Loss 0.002\n",
            "Epoch: 219/500 - Train loss 0.000 - Valid Loss 0.002\n",
            "Epoch: 220/500 - Train loss 0.000 - Valid Loss 0.002\n",
            "Epoch: 221/500 - Train loss 0.000 - Valid Loss 0.002\n",
            "Epoch: 222/500 - Train loss 0.000 - Valid Loss 0.002\n",
            "Epoch: 223/500 - Train loss 0.000 - Valid Loss 0.002\n",
            "Epoch: 224/500 - Train loss 0.000 - Valid Loss 0.002\n",
            "Epoch: 225/500 - Train loss 0.000 - Valid Loss 0.002\n",
            "Epoch: 226/500 - Train loss 0.000 - Valid Loss 0.002\n",
            "Epoch: 227/500 - Train loss 0.000 - Valid Loss 0.002\n",
            "Epoch: 228/500 - Train loss 0.000 - Valid Loss 0.002\n",
            "Epoch: 229/500 - Train loss 0.000 - Valid Loss 0.002\n",
            "Epoch: 230/500 - Train loss 0.000 - Valid Loss 0.002\n",
            "Epoch: 231/500 - Train loss 0.000 - Valid Loss 0.002\n",
            "Epoch: 232/500 - Train loss 0.000 - Valid Loss 0.002\n",
            "Epoch: 233/500 - Train loss 0.000 - Valid Loss 0.002\n",
            "Epoch: 234/500 - Train loss 0.000 - Valid Loss 0.002\n",
            "Epoch: 235/500 - Train loss 0.000 - Valid Loss 0.002\n",
            "Epoch: 236/500 - Train loss 0.000 - Valid Loss 0.002\n",
            "Epoch: 237/500 - Train loss 0.000 - Valid Loss 0.002\n",
            "Epoch: 238/500 - Train loss 0.000 - Valid Loss 0.002\n",
            "Epoch: 239/500 - Train loss 0.000 - Valid Loss 0.002\n",
            "Epoch: 240/500 - Train loss 0.000 - Valid Loss 0.002\n",
            "Epoch: 241/500 - Train loss 0.000 - Valid Loss 0.002\n",
            "Epoch: 242/500 - Train loss 0.000 - Valid Loss 0.002\n",
            "Epoch: 243/500 - Train loss 0.000 - Valid Loss 0.002\n",
            "Epoch: 244/500 - Train loss 0.000 - Valid Loss 0.002\n",
            "Epoch: 245/500 - Train loss 0.000 - Valid Loss 0.002\n",
            "Epoch: 246/500 - Train loss 0.000 - Valid Loss 0.002\n",
            "Epoch: 247/500 - Train loss 0.000 - Valid Loss 0.002\n",
            "Epoch: 248/500 - Train loss 0.000 - Valid Loss 0.002\n",
            "Epoch: 249/500 - Train loss 0.000 - Valid Loss 0.002\n",
            "Epoch: 250/500 - Train loss 0.000 - Valid Loss 0.002\n",
            "Epoch: 251/500 - Train loss 0.000 - Valid Loss 0.002\n",
            "Epoch: 252/500 - Train loss 0.000 - Valid Loss 0.002\n",
            "Epoch: 253/500 - Train loss 0.000 - Valid Loss 0.002\n",
            "Epoch: 254/500 - Train loss 0.000 - Valid Loss 0.002\n",
            "Epoch: 255/500 - Train loss 0.000 - Valid Loss 0.002\n",
            "Epoch: 256/500 - Train loss 0.000 - Valid Loss 0.002\n",
            "Epoch: 257/500 - Train loss 0.000 - Valid Loss 0.002\n",
            "Epoch: 258/500 - Train loss 0.000 - Valid Loss 0.002\n",
            "Epoch: 259/500 - Train loss 0.000 - Valid Loss 0.002\n",
            "Epoch: 260/500 - Train loss 0.000 - Valid Loss 0.002\n",
            "Epoch: 261/500 - Train loss 0.000 - Valid Loss 0.002\n",
            "Epoch: 262/500 - Train loss 0.000 - Valid Loss 0.002\n",
            "Epoch: 263/500 - Train loss 0.000 - Valid Loss 0.002\n",
            "Epoch: 264/500 - Train loss 0.000 - Valid Loss 0.002\n",
            "Epoch: 265/500 - Train loss 0.000 - Valid Loss 0.002\n",
            "Epoch: 266/500 - Train loss 0.000 - Valid Loss 0.002\n",
            "Epoch: 267/500 - Train loss 0.000 - Valid Loss 0.002\n",
            "Epoch: 268/500 - Train loss 0.000 - Valid Loss 0.002\n",
            "Epoch: 269/500 - Train loss 0.000 - Valid Loss 0.002\n",
            "Epoch: 270/500 - Train loss 0.000 - Valid Loss 0.002\n",
            "Epoch: 271/500 - Train loss 0.000 - Valid Loss 0.002\n",
            "Epoch: 272/500 - Train loss 0.000 - Valid Loss 0.002\n",
            "Epoch: 273/500 - Train loss 0.000 - Valid Loss 0.002\n",
            "Epoch: 274/500 - Train loss 0.000 - Valid Loss 0.002\n",
            "Epoch: 275/500 - Train loss 0.000 - Valid Loss 0.002\n",
            "Epoch: 276/500 - Train loss 0.000 - Valid Loss 0.002\n",
            "Epoch: 277/500 - Train loss 0.000 - Valid Loss 0.002\n",
            "Epoch: 278/500 - Train loss 0.000 - Valid Loss 0.002\n",
            "Epoch: 279/500 - Train loss 0.000 - Valid Loss 0.002\n",
            "Epoch: 280/500 - Train loss 0.000 - Valid Loss 0.002\n",
            "Epoch: 281/500 - Train loss 0.000 - Valid Loss 0.002\n",
            "Epoch: 282/500 - Train loss 0.000 - Valid Loss 0.002\n",
            "Epoch: 283/500 - Train loss 0.000 - Valid Loss 0.002\n",
            "Epoch: 284/500 - Train loss 0.000 - Valid Loss 0.002\n",
            "Epoch: 285/500 - Train loss 0.000 - Valid Loss 0.002\n",
            "Epoch: 286/500 - Train loss 0.000 - Valid Loss 0.002\n",
            "Epoch: 287/500 - Train loss 0.000 - Valid Loss 0.002\n",
            "Epoch: 288/500 - Train loss 0.000 - Valid Loss 0.002\n",
            "Epoch: 289/500 - Train loss 0.000 - Valid Loss 0.002\n",
            "Epoch: 290/500 - Train loss 0.000 - Valid Loss 0.002\n",
            "Epoch: 291/500 - Train loss 0.000 - Valid Loss 0.002\n",
            "Epoch: 292/500 - Train loss 0.000 - Valid Loss 0.002\n",
            "Epoch: 293/500 - Train loss 0.000 - Valid Loss 0.002\n",
            "Epoch: 294/500 - Train loss 0.000 - Valid Loss 0.002\n",
            "Epoch: 295/500 - Train loss 0.000 - Valid Loss 0.002\n",
            "Epoch: 296/500 - Train loss 0.000 - Valid Loss 0.002\n",
            "Epoch: 297/500 - Train loss 0.000 - Valid Loss 0.002\n",
            "Epoch: 298/500 - Train loss 0.000 - Valid Loss 0.002\n",
            "Epoch: 299/500 - Train loss 0.000 - Valid Loss 0.002\n",
            "Epoch: 300/500 - Train loss 0.000 - Valid Loss 0.002\n",
            "Epoch: 301/500 - Train loss 0.000 - Valid Loss 0.002\n",
            "Epoch: 302/500 - Train loss 0.000 - Valid Loss 0.002\n",
            "Epoch: 303/500 - Train loss 0.000 - Valid Loss 0.002\n",
            "Epoch: 304/500 - Train loss 0.000 - Valid Loss 0.002\n",
            "Epoch: 305/500 - Train loss 0.000 - Valid Loss 0.002\n",
            "Epoch: 306/500 - Train loss 0.000 - Valid Loss 0.002\n",
            "Epoch: 307/500 - Train loss 0.000 - Valid Loss 0.002\n",
            "Epoch: 308/500 - Train loss 0.000 - Valid Loss 0.002\n",
            "Epoch: 309/500 - Train loss 0.000 - Valid Loss 0.002\n",
            "Epoch: 310/500 - Train loss 0.000 - Valid Loss 0.002\n",
            "Epoch: 311/500 - Train loss 0.000 - Valid Loss 0.002\n",
            "Epoch: 312/500 - Train loss 0.000 - Valid Loss 0.002\n",
            "Epoch: 313/500 - Train loss 0.000 - Valid Loss 0.002\n",
            "Epoch: 314/500 - Train loss 0.000 - Valid Loss 0.002\n",
            "Epoch: 315/500 - Train loss 0.000 - Valid Loss 0.002\n",
            "Epoch: 316/500 - Train loss 0.000 - Valid Loss 0.002\n",
            "Epoch: 317/500 - Train loss 0.000 - Valid Loss 0.002\n",
            "Epoch: 318/500 - Train loss 0.000 - Valid Loss 0.002\n",
            "Epoch: 319/500 - Train loss 0.000 - Valid Loss 0.002\n",
            "Epoch: 320/500 - Train loss 0.000 - Valid Loss 0.002\n",
            "Epoch: 321/500 - Train loss 0.000 - Valid Loss 0.002\n",
            "Epoch: 322/500 - Train loss 0.000 - Valid Loss 0.002\n",
            "Epoch: 323/500 - Train loss 0.000 - Valid Loss 0.002\n",
            "Epoch: 324/500 - Train loss 0.000 - Valid Loss 0.002\n",
            "Epoch: 325/500 - Train loss 0.000 - Valid Loss 0.002\n",
            "Epoch: 326/500 - Train loss 0.000 - Valid Loss 0.002\n",
            "Epoch: 327/500 - Train loss 0.000 - Valid Loss 0.002\n",
            "Epoch: 328/500 - Train loss 0.000 - Valid Loss 0.002\n",
            "Epoch: 329/500 - Train loss 0.000 - Valid Loss 0.002\n",
            "Epoch: 330/500 - Train loss 0.000 - Valid Loss 0.002\n",
            "Epoch: 331/500 - Train loss 0.000 - Valid Loss 0.002\n",
            "Epoch: 332/500 - Train loss 0.000 - Valid Loss 0.002\n",
            "Epoch: 333/500 - Train loss 0.000 - Valid Loss 0.002\n",
            "Epoch: 334/500 - Train loss 0.000 - Valid Loss 0.002\n",
            "Epoch: 335/500 - Train loss 0.000 - Valid Loss 0.002\n",
            "Epoch: 336/500 - Train loss 0.000 - Valid Loss 0.002\n",
            "Epoch: 337/500 - Train loss 0.000 - Valid Loss 0.002\n",
            "Epoch: 338/500 - Train loss 0.000 - Valid Loss 0.002\n",
            "Epoch: 339/500 - Train loss 0.000 - Valid Loss 0.002\n",
            "Epoch: 340/500 - Train loss 0.000 - Valid Loss 0.002\n",
            "Epoch: 341/500 - Train loss 0.000 - Valid Loss 0.002\n",
            "Epoch: 342/500 - Train loss 0.000 - Valid Loss 0.002\n",
            "Epoch: 343/500 - Train loss 0.000 - Valid Loss 0.002\n",
            "Epoch: 344/500 - Train loss 0.000 - Valid Loss 0.002\n",
            "Epoch: 345/500 - Train loss 0.000 - Valid Loss 0.002\n",
            "Epoch: 346/500 - Train loss 0.000 - Valid Loss 0.002\n",
            "Epoch: 347/500 - Train loss 0.000 - Valid Loss 0.002\n",
            "Epoch: 348/500 - Train loss 0.000 - Valid Loss 0.002\n",
            "Epoch: 349/500 - Train loss 0.000 - Valid Loss 0.002\n",
            "Epoch: 350/500 - Train loss 0.000 - Valid Loss 0.002\n",
            "Epoch: 351/500 - Train loss 0.000 - Valid Loss 0.002\n",
            "Epoch: 352/500 - Train loss 0.000 - Valid Loss 0.002\n",
            "Epoch: 353/500 - Train loss 0.000 - Valid Loss 0.002\n",
            "Epoch: 354/500 - Train loss 0.000 - Valid Loss 0.002\n",
            "Epoch: 355/500 - Train loss 0.000 - Valid Loss 0.002\n",
            "Epoch: 356/500 - Train loss 0.000 - Valid Loss 0.002\n",
            "Epoch: 357/500 - Train loss 0.000 - Valid Loss 0.002\n",
            "Epoch: 358/500 - Train loss 0.000 - Valid Loss 0.002\n",
            "Epoch: 359/500 - Train loss 0.000 - Valid Loss 0.002\n",
            "Epoch: 360/500 - Train loss 0.000 - Valid Loss 0.002\n",
            "Epoch: 361/500 - Train loss 0.000 - Valid Loss 0.002\n",
            "Epoch: 362/500 - Train loss 0.000 - Valid Loss 0.002\n",
            "Epoch: 363/500 - Train loss 0.000 - Valid Loss 0.002\n",
            "Epoch: 364/500 - Train loss 0.000 - Valid Loss 0.002\n",
            "Epoch: 365/500 - Train loss 0.000 - Valid Loss 0.002\n",
            "Epoch: 366/500 - Train loss 0.000 - Valid Loss 0.002\n",
            "Epoch: 367/500 - Train loss 0.000 - Valid Loss 0.002\n",
            "Epoch: 368/500 - Train loss 0.000 - Valid Loss 0.002\n",
            "Epoch: 369/500 - Train loss 0.000 - Valid Loss 0.002\n",
            "Epoch: 370/500 - Train loss 0.000 - Valid Loss 0.002\n",
            "Epoch: 371/500 - Train loss 0.000 - Valid Loss 0.002\n",
            "Epoch: 372/500 - Train loss 0.000 - Valid Loss 0.002\n",
            "Epoch: 373/500 - Train loss 0.000 - Valid Loss 0.002\n",
            "Epoch: 374/500 - Train loss 0.000 - Valid Loss 0.002\n",
            "Epoch: 375/500 - Train loss 0.000 - Valid Loss 0.002\n",
            "Epoch: 376/500 - Train loss 0.000 - Valid Loss 0.002\n",
            "Epoch: 377/500 - Train loss 0.000 - Valid Loss 0.002\n",
            "Epoch: 378/500 - Train loss 0.000 - Valid Loss 0.002\n",
            "Epoch: 379/500 - Train loss 0.000 - Valid Loss 0.002\n",
            "Epoch: 380/500 - Train loss 0.000 - Valid Loss 0.002\n",
            "Epoch: 381/500 - Train loss 0.000 - Valid Loss 0.002\n",
            "Epoch: 382/500 - Train loss 0.000 - Valid Loss 0.002\n",
            "Epoch: 383/500 - Train loss 0.000 - Valid Loss 0.002\n",
            "Epoch: 384/500 - Train loss 0.000 - Valid Loss 0.002\n",
            "Epoch: 385/500 - Train loss 0.000 - Valid Loss 0.002\n",
            "Epoch: 386/500 - Train loss 0.000 - Valid Loss 0.002\n",
            "Epoch: 387/500 - Train loss 0.000 - Valid Loss 0.002\n",
            "Epoch: 388/500 - Train loss 0.000 - Valid Loss 0.002\n",
            "Epoch: 389/500 - Train loss 0.000 - Valid Loss 0.002\n",
            "Epoch: 390/500 - Train loss 0.000 - Valid Loss 0.002\n",
            "Epoch: 391/500 - Train loss 0.000 - Valid Loss 0.002\n",
            "Epoch: 392/500 - Train loss 0.000 - Valid Loss 0.002\n",
            "Epoch: 393/500 - Train loss 0.000 - Valid Loss 0.002\n",
            "Epoch: 394/500 - Train loss 0.000 - Valid Loss 0.002\n",
            "Epoch: 395/500 - Train loss 0.000 - Valid Loss 0.002\n",
            "Epoch: 396/500 - Train loss 0.000 - Valid Loss 0.002\n",
            "Epoch: 397/500 - Train loss 0.000 - Valid Loss 0.002\n",
            "Epoch: 398/500 - Train loss 0.000 - Valid Loss 0.002\n",
            "Epoch: 399/500 - Train loss 0.000 - Valid Loss 0.002\n",
            "Epoch: 400/500 - Train loss 0.000 - Valid Loss 0.002\n",
            "Epoch: 401/500 - Train loss 0.000 - Valid Loss 0.002\n",
            "Epoch: 402/500 - Train loss 0.000 - Valid Loss 0.002\n",
            "Epoch: 403/500 - Train loss 0.000 - Valid Loss 0.002\n",
            "Epoch: 404/500 - Train loss 0.000 - Valid Loss 0.002\n",
            "Epoch: 405/500 - Train loss 0.000 - Valid Loss 0.002\n",
            "Epoch: 406/500 - Train loss 0.000 - Valid Loss 0.002\n",
            "Epoch: 407/500 - Train loss 0.000 - Valid Loss 0.002\n",
            "Epoch: 408/500 - Train loss 0.000 - Valid Loss 0.002\n",
            "Epoch: 409/500 - Train loss 0.000 - Valid Loss 0.002\n",
            "Epoch: 410/500 - Train loss 0.000 - Valid Loss 0.002\n",
            "Epoch: 411/500 - Train loss 0.000 - Valid Loss 0.002\n",
            "Epoch: 412/500 - Train loss 0.000 - Valid Loss 0.002\n",
            "Epoch: 413/500 - Train loss 0.000 - Valid Loss 0.002\n",
            "Epoch: 414/500 - Train loss 0.000 - Valid Loss 0.002\n",
            "Epoch: 415/500 - Train loss 0.000 - Valid Loss 0.002\n",
            "Epoch: 416/500 - Train loss 0.000 - Valid Loss 0.002\n",
            "Epoch: 417/500 - Train loss 0.000 - Valid Loss 0.002\n",
            "Epoch: 418/500 - Train loss 0.000 - Valid Loss 0.002\n",
            "Epoch: 419/500 - Train loss 0.000 - Valid Loss 0.002\n",
            "Epoch: 420/500 - Train loss 0.000 - Valid Loss 0.002\n",
            "Epoch: 421/500 - Train loss 0.000 - Valid Loss 0.002\n",
            "Epoch: 422/500 - Train loss 0.000 - Valid Loss 0.002\n",
            "Epoch: 423/500 - Train loss 0.000 - Valid Loss 0.002\n",
            "Epoch: 424/500 - Train loss 0.000 - Valid Loss 0.002\n",
            "Epoch: 425/500 - Train loss 0.000 - Valid Loss 0.002\n",
            "Epoch: 426/500 - Train loss 0.000 - Valid Loss 0.002\n",
            "Epoch: 427/500 - Train loss 0.000 - Valid Loss 0.002\n",
            "Epoch: 428/500 - Train loss 0.000 - Valid Loss 0.002\n",
            "Epoch: 429/500 - Train loss 0.000 - Valid Loss 0.002\n",
            "Epoch: 430/500 - Train loss 0.000 - Valid Loss 0.002\n",
            "Epoch: 431/500 - Train loss 0.000 - Valid Loss 0.002\n",
            "Epoch: 432/500 - Train loss 0.000 - Valid Loss 0.002\n",
            "Epoch: 433/500 - Train loss 0.000 - Valid Loss 0.002\n",
            "Epoch: 434/500 - Train loss 0.000 - Valid Loss 0.002\n",
            "Epoch: 435/500 - Train loss 0.000 - Valid Loss 0.002\n",
            "Epoch: 436/500 - Train loss 0.000 - Valid Loss 0.002\n",
            "Epoch: 437/500 - Train loss 0.000 - Valid Loss 0.002\n",
            "Epoch: 438/500 - Train loss 0.000 - Valid Loss 0.002\n",
            "Epoch: 439/500 - Train loss 0.000 - Valid Loss 0.002\n",
            "Epoch: 440/500 - Train loss 0.000 - Valid Loss 0.002\n",
            "Epoch: 441/500 - Train loss 0.000 - Valid Loss 0.002\n",
            "Epoch: 442/500 - Train loss 0.000 - Valid Loss 0.002\n",
            "Epoch: 443/500 - Train loss 0.000 - Valid Loss 0.002\n",
            "Epoch: 444/500 - Train loss 0.000 - Valid Loss 0.002\n",
            "Epoch: 445/500 - Train loss 0.000 - Valid Loss 0.002\n",
            "Epoch: 446/500 - Train loss 0.000 - Valid Loss 0.002\n",
            "Epoch: 447/500 - Train loss 0.000 - Valid Loss 0.002\n",
            "Epoch: 448/500 - Train loss 0.000 - Valid Loss 0.002\n",
            "Epoch: 449/500 - Train loss 0.000 - Valid Loss 0.002\n",
            "Epoch: 450/500 - Train loss 0.000 - Valid Loss 0.002\n",
            "Epoch: 451/500 - Train loss 0.000 - Valid Loss 0.002\n",
            "Epoch: 452/500 - Train loss 0.000 - Valid Loss 0.002\n",
            "Epoch: 453/500 - Train loss 0.000 - Valid Loss 0.002\n",
            "Epoch: 454/500 - Train loss 0.000 - Valid Loss 0.002\n",
            "Epoch: 455/500 - Train loss 0.000 - Valid Loss 0.002\n",
            "Epoch: 456/500 - Train loss 0.000 - Valid Loss 0.002\n",
            "Epoch: 457/500 - Train loss 0.000 - Valid Loss 0.002\n",
            "Epoch: 458/500 - Train loss 0.000 - Valid Loss 0.002\n",
            "Epoch: 459/500 - Train loss 0.000 - Valid Loss 0.002\n",
            "Epoch: 460/500 - Train loss 0.000 - Valid Loss 0.002\n",
            "Epoch: 461/500 - Train loss 0.000 - Valid Loss 0.002\n",
            "Epoch: 462/500 - Train loss 0.000 - Valid Loss 0.002\n",
            "Epoch: 463/500 - Train loss 0.000 - Valid Loss 0.002\n",
            "Epoch: 464/500 - Train loss 0.000 - Valid Loss 0.002\n",
            "Epoch: 465/500 - Train loss 0.000 - Valid Loss 0.002\n",
            "Epoch: 466/500 - Train loss 0.000 - Valid Loss 0.002\n",
            "Epoch: 467/500 - Train loss 0.000 - Valid Loss 0.002\n",
            "Epoch: 468/500 - Train loss 0.000 - Valid Loss 0.002\n",
            "Epoch: 469/500 - Train loss 0.000 - Valid Loss 0.002\n",
            "Epoch: 470/500 - Train loss 0.000 - Valid Loss 0.002\n",
            "Epoch: 471/500 - Train loss 0.000 - Valid Loss 0.002\n",
            "Epoch: 472/500 - Train loss 0.000 - Valid Loss 0.002\n",
            "Epoch: 473/500 - Train loss 0.000 - Valid Loss 0.002\n",
            "Epoch: 474/500 - Train loss 0.000 - Valid Loss 0.002\n",
            "Epoch: 475/500 - Train loss 0.000 - Valid Loss 0.002\n",
            "Epoch: 476/500 - Train loss 0.000 - Valid Loss 0.002\n",
            "Epoch: 477/500 - Train loss 0.000 - Valid Loss 0.002\n",
            "Epoch: 478/500 - Train loss 0.000 - Valid Loss 0.002\n",
            "Epoch: 479/500 - Train loss 0.000 - Valid Loss 0.002\n",
            "Epoch: 480/500 - Train loss 0.000 - Valid Loss 0.002\n",
            "Epoch: 481/500 - Train loss 0.000 - Valid Loss 0.002\n",
            "Epoch: 482/500 - Train loss 0.000 - Valid Loss 0.002\n",
            "Epoch: 483/500 - Train loss 0.000 - Valid Loss 0.002\n",
            "Epoch: 484/500 - Train loss 0.000 - Valid Loss 0.002\n",
            "Epoch: 485/500 - Train loss 0.000 - Valid Loss 0.002\n",
            "Epoch: 486/500 - Train loss 0.000 - Valid Loss 0.002\n",
            "Epoch: 487/500 - Train loss 0.000 - Valid Loss 0.002\n",
            "Epoch: 488/500 - Train loss 0.000 - Valid Loss 0.002\n",
            "Epoch: 489/500 - Train loss 0.000 - Valid Loss 0.002\n",
            "Epoch: 490/500 - Train loss 0.000 - Valid Loss 0.002\n",
            "Epoch: 491/500 - Train loss 0.000 - Valid Loss 0.002\n",
            "Epoch: 492/500 - Train loss 0.000 - Valid Loss 0.002\n",
            "Epoch: 493/500 - Train loss 0.000 - Valid Loss 0.002\n",
            "Epoch: 494/500 - Train loss 0.000 - Valid Loss 0.002\n",
            "Epoch: 495/500 - Train loss 0.000 - Valid Loss 0.002\n",
            "Epoch: 496/500 - Train loss 0.000 - Valid Loss 0.002\n",
            "Epoch: 497/500 - Train loss 0.000 - Valid Loss 0.002\n",
            "Epoch: 498/500 - Train loss 0.000 - Valid Loss 0.002\n",
            "Epoch: 499/500 - Train loss 0.000 - Valid Loss 0.002\n",
            "Epoch: 500/500 - Train loss 0.000 - Valid Loss 0.002\n"
          ]
        }
      ]
    },
    {
      "cell_type": "code",
      "source": [
        "epoch_count = range(1, len(history1['loss']) + 1)\n",
        "sns.lineplot(x=epoch_count,  y=history1['loss'], label='train')\n",
        "sns.lineplot(x=epoch_count,  y=history1['val_loss'], label='valid')\n",
        "plt.show()"
      ],
      "metadata": {
        "colab": {
          "base_uri": "https://localhost:8080/",
          "height": 266
        },
        "id": "0CGGYxnzHXRR",
        "outputId": "036ca199-7666-4221-c0b9-288dced780ad"
      },
      "execution_count": 109,
      "outputs": [
        {
          "output_type": "display_data",
          "data": {
            "text/plain": [
              "<Figure size 432x288 with 1 Axes>"
            ],
            "image/png": "[encoded data removed]"
          },
          "metadata": {
            "needs_background": "light"
          }
        }
      ]
    },
    {
      "cell_type": "code",
      "source": [
        "# Ensayo\n",
        "x_test = [y[-3], y[-2], y[-1]]\n",
        "preds = []\n",
        "for i in range(10):\n",
        "\n",
        "  if i != 0:\n",
        "      x_test = [x_test[-2], x_test[-1], preds[-1]]\n",
        "\n",
        "  test_input = np.array(x_test)\n",
        "  test_input = test_input.reshape((1, seq_length, input_size))\n",
        "  test_input = torch.from_numpy(test_input.astype(np.float32))\n",
        "\n",
        "  y_hat = model1(test_input).detach().numpy()\n",
        "  preds.append(y_hat)"
      ],
      "metadata": {
        "colab": {
          "base_uri": "https://localhost:8080/"
        },
        "id": "yWEfh9QKH49t",
        "outputId": "f2f8dbe0-f966-44a6-beb6-b925d9205e39"
      },
      "execution_count": 110,
      "outputs": [
        {
          "output_type": "stream",
          "name": "stderr",
          "text": [
            "/usr/local/lib/python3.7/dist-packages/ipykernel_launcher.py:9: VisibleDeprecationWarning: Creating an ndarray from ragged nested sequences (which is a list-or-tuple of lists-or-tuples-or ndarrays with different lengths or shapes) is deprecated. If you meant to do this, you must specify 'dtype=object' when creating the ndarray.\n",
            "  if __name__ == '__main__':\n"
          ]
        }
      ]
    },
    {
      "cell_type": "code",
      "source": [
        "preds"
      ],
      "metadata": {
        "colab": {
          "base_uri": "https://localhost:8080/"
        },
        "id": "9qWzK5GXQMce",
        "outputId": "d46b6543-4436-43a2-824b-3e4b1ef54052"
      },
      "execution_count": 101,
      "outputs": [
        {
          "output_type": "execute_result",
          "data": {
            "text/plain": [
              "[array([[0.5410771]], dtype=float32),\n",
              " array([[0.6065118]], dtype=float32),\n",
              " array([[0.70872545]], dtype=float32),\n",
              " array([[0.8687689]], dtype=float32),\n",
              " array([[1.0877287]], dtype=float32),\n",
              " array([[1.4591755]], dtype=float32),\n",
              " array([[2.1581287]], dtype=float32),\n",
              " array([[3.686888]], dtype=float32),\n",
              " array([[7.7305684]], dtype=float32),\n",
              " array([[19.09575]], dtype=float32)]"
            ]
          },
          "metadata": {},
          "execution_count": 101
        }
      ]
    },
    {
      "cell_type": "code",
      "source": [
        "preds"
      ],
      "metadata": {
        "colab": {
          "base_uri": "https://localhost:8080/"
        },
        "id": "-K1ixesQRHy1",
        "outputId": "363fa837-5300-4ed9-f24e-b8226c88c899"
      },
      "execution_count": 111,
      "outputs": [
        {
          "output_type": "execute_result",
          "data": {
            "text/plain": [
              "[array([[0.50389487]], dtype=float32),\n",
              " array([[0.5295889]], dtype=float32),\n",
              " array([[0.56736445]], dtype=float32),\n",
              " array([[0.6153339]], dtype=float32),\n",
              " array([[0.6547185]], dtype=float32),\n",
              " array([[0.70270264]], dtype=float32),\n",
              " array([[0.75568086]], dtype=float32),\n",
              " array([[0.8117021]], dtype=float32),\n",
              " array([[0.8784789]], dtype=float32),\n",
              " array([[0.95683193]], dtype=float32)]"
            ]
          },
          "metadata": {},
          "execution_count": 111
        }
      ]
    },
    {
      "cell_type": "code",
      "source": [
        "idx = 18\n",
        "x_test = X[idx]\n",
        "x_test\n",
        "\n",
        "test_input = np.array(x_test)\n",
        "test_input = test_input.reshape((1, seq_length, input_size))\n",
        "test_input = torch.from_numpy(test_input.astype(np.float32))\n",
        "\n",
        "y_hat = model1(test_input)\n",
        "print(y_hat)\n",
        "print(y[idx])"
      ],
      "metadata": {
        "colab": {
          "base_uri": "https://localhost:8080/"
        },
        "id": "8P31U1oVMVXY",
        "outputId": "d678c3e2-29be-47ac-e103-038fe21fab10"
      },
      "execution_count": 106,
      "outputs": [
        {
          "output_type": "stream",
          "name": "stdout",
          "text": [
            "tensor([[0.4990]], grad_fn=<AddmmBackward0>)\n",
            "0.421\n"
          ]
        }
      ]
    },
    {
      "cell_type": "code",
      "source": [
        "y"
      ],
      "metadata": {
        "colab": {
          "base_uri": "https://localhost:8080/"
        },
        "id": "46t-4huNM9T6",
        "outputId": "82ed8507-d6c7-45ec-97c6-d0273d464efe"
      },
      "execution_count": 80,
      "outputs": [
        {
          "output_type": "execute_result",
          "data": {
            "text/plain": [
              "array([0.039, 0.065, 0.073, 0.104, 0.119, 0.122, 0.172, 0.179, 0.212,\n",
              "       0.217, 0.231, 0.245, 0.281, 0.329, 0.365, 0.381, 0.399, 0.413,\n",
              "       0.421, 0.444])"
            ]
          },
          "metadata": {},
          "execution_count": 80
        }
      ]
    },
    {
      "cell_type": "code",
      "source": [
        "X[5]"
      ],
      "metadata": {
        "colab": {
          "base_uri": "https://localhost:8080/"
        },
        "id": "V-jq7DbYNpPQ",
        "outputId": "7b46bea6-2322-4c7f-8714-7aa0ce6e8ca0"
      },
      "execution_count": 72,
      "outputs": [
        {
          "output_type": "execute_result",
          "data": {
            "text/plain": [
              "array([[0.073],\n",
              "       [0.104],\n",
              "       [0.119]])"
            ]
          },
          "metadata": {},
          "execution_count": 72
        }
      ]
    },
    {
      "cell_type": "code",
      "source": [],
      "metadata": {
        "id": "MArU_lLzNlcg"
      },
      "execution_count": null,
      "outputs": []
    },
    {
      "cell_type": "code",
      "source": [
        "x_test.detach().numpy()"
      ],
      "metadata": {
        "colab": {
          "base_uri": "https://localhost:8080/",
          "height": 165
        },
        "id": "TtYL6bm_Lqya",
        "outputId": "41c99bc7-eb97-4147-a18f-6ee30da8f6c7"
      },
      "execution_count": 51,
      "outputs": [
        {
          "output_type": "error",
          "ename": "AttributeError",
          "evalue": "ignored",
          "traceback": [
            "\u001b[0;31m---------------------------------------------------------------------------\u001b[0m",
            "\u001b[0;31mAttributeError\u001b[0m                            Traceback (most recent call last)",
            "\u001b[0;32m<ipython-input-51-bb452257f277>\u001b[0m in \u001b[0;36m<module>\u001b[0;34m\u001b[0m\n\u001b[0;32m----> 1\u001b[0;31m \u001b[0mx_test\u001b[0m\u001b[0;34m.\u001b[0m\u001b[0mdetach\u001b[0m\u001b[0;34m(\u001b[0m\u001b[0;34m)\u001b[0m\u001b[0;34m.\u001b[0m\u001b[0mnumpy\u001b[0m\u001b[0;34m(\u001b[0m\u001b[0;34m)\u001b[0m\u001b[0;34m\u001b[0m\u001b[0;34m\u001b[0m\u001b[0m\n\u001b[0m",
            "\u001b[0;31mAttributeError\u001b[0m: 'list' object has no attribute 'detach'"
          ]
        }
      ]
    },
    {
      "cell_type": "code",
      "source": [
        "import matplotlib.pyplot as plt"
      ],
      "metadata": {
        "id": "kBDSzAewHVuS"
      },
      "execution_count": 19,
      "outputs": []
    },
    {
      "cell_type": "code",
      "source": [
        "\n",
        "mes = np.arange(0, 30, 1)\n",
        "old_out = np.concatenate((y, np.full((1, 10), y[-1])), axis = None)\n",
        "new_out = np.concatenate((y, preds), axis = None)\n",
        "plt.plot(mes, new_out)\n",
        "plt.plot(mes, old_out)\n",
        "plt.show()"
      ],
      "metadata": {
        "colab": {
          "base_uri": "https://localhost:8080/",
          "height": 269
        },
        "id": "ZdDLBHRAISNB",
        "outputId": "a3569027-556b-4b3e-d161-0086afd08369"
      },
      "execution_count": 121,
      "outputs": [
        {
          "output_type": "display_data",
          "data": {
            "text/plain": [
              "<Figure size 432x288 with 1 Axes>"
            ],
            "image/png": "[encoded data removed]"
          },
          "metadata": {
            "needs_background": "light"
          }
        }
      ]
    },
    {
      "cell_type": "code",
      "source": [
        "np.full((1, 10), y[-1])"
      ],
      "metadata": {
        "colab": {
          "base_uri": "https://localhost:8080/"
        },
        "id": "cftWWoO1HVwa",
        "outputId": "b47b0427-062f-40c8-d49a-c1554b156e74"
      },
      "execution_count": 116,
      "outputs": [
        {
          "output_type": "execute_result",
          "data": {
            "text/plain": [
              "array([[0.444, 0.444, 0.444, 0.444, 0.444, 0.444, 0.444, 0.444, 0.444,\n",
              "        0.444]])"
            ]
          },
          "metadata": {},
          "execution_count": 116
        }
      ]
    },
    {
      "cell_type": "code",
      "source": [
        "y[1:] - y[:-1]"
      ],
      "metadata": {
        "colab": {
          "base_uri": "https://localhost:8080/"
        },
        "id": "r1JCCljhHVyT",
        "outputId": "0e871a8a-aaac-4d5c-ba57-ae86a9b3379a"
      },
      "execution_count": 31,
      "outputs": [
        {
          "output_type": "execute_result",
          "data": {
            "text/plain": [
              "array([0.007, 0.057, 0.009, 0.024, 0.058, 0.049, 0.047, 0.017, 0.074,\n",
              "       0.065, 0.064, 0.049, 0.062, 0.044, 0.063, 0.057, 0.075, 0.044,\n",
              "       0.065])"
            ]
          },
          "metadata": {},
          "execution_count": 31
        }
      ]
    },
    {
      "cell_type": "code",
      "source": [],
      "metadata": {
        "id": "E6970CJMHV0P"
      },
      "execution_count": 10,
      "outputs": []
    },
    {
      "cell_type": "code",
      "source": [],
      "metadata": {
        "id": "42PzkP6-HV2c"
      },
      "execution_count": null,
      "outputs": []
    }
  ]
}