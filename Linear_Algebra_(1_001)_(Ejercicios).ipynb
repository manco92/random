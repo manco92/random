{
  "nbformat": 4,
  "nbformat_minor": 0,
  "metadata": {
    "colab": {
      "provenance": [],
      "authorship_tag": "ABX9TyNqxlEZhNv6M2m1gsEjs3No",
      "include_colab_link": true
    },
    "kernelspec": {
      "name": "python3",
      "display_name": "Python 3"
    },
    "language_info": {
      "name": "python"
    }
  },
  "cells": [
    {
      "cell_type": "markdown",
      "metadata": {
        "id": "view-in-github",
        "colab_type": "text"
      },
      "source": [
        "<a href=\"https://colab.research.google.com/github/manco92/random/blob/main/Linear_Algebra_(1_001)_(Ejercicios).ipynb\" target=\"_parent\"><img src=\"https://colab.research.google.com/assets/colab-badge.svg\" alt=\"Open In Colab\"/></a>"
      ]
    },
    {
      "cell_type": "code",
      "execution_count": null,
      "metadata": {
        "id": "671uSwAsarB7"
      },
      "outputs": [],
      "source": [
        "import numpy as np\n",
        "import sympy as sp\n",
        "import matplotlib.pyplot as plt\n",
        "from mpl_toolkits.mplot3d import Axes3D"
      ]
    },
    {
      "cell_type": "code",
      "source": [
        "x1 = sp.Symbol('x1')\n",
        "x2 = sp.Symbol('x2')"
      ],
      "metadata": {
        "id": "2aPZuMMRfkDP"
      },
      "execution_count": null,
      "outputs": []
    },
    {
      "cell_type": "code",
      "source": [
        "A = np.array([[2,3],[2,4],[3,7]])\n",
        "X = np.array([[x1],[x2]])"
      ],
      "metadata": {
        "id": "lfO62M9pfkHP"
      },
      "execution_count": null,
      "outputs": []
    },
    {
      "cell_type": "code",
      "source": [
        "A@X"
      ],
      "metadata": {
        "colab": {
          "base_uri": "https://localhost:8080/"
        },
        "id": "ctrW2qXmfoOJ",
        "outputId": "71f41856-3da9-4899-ad31-debe1995276e"
      },
      "execution_count": null,
      "outputs": [
        {
          "output_type": "execute_result",
          "data": {
            "text/plain": [
              "array([[2*x1 + 3*x2],\n",
              "       [2*x1 + 4*x2],\n",
              "       [3*x1 + 7*x2]], dtype=object)"
            ]
          },
          "metadata": {},
          "execution_count": 4
        }
      ]
    },
    {
      "cell_type": "markdown",
      "source": [
        "#### 1) Dé un ejemplo donde una combinación lineal de tres vectores no nulos de $R^4$ es el vector cero. Luego exprese su ejemplo como solución de $Ax = 0$. ¿Qué tamaño tienen $A, x$ y $0$?"
      ],
      "metadata": {
        "id": "9Ag-4fihhW80"
      }
    },
    {
      "cell_type": "code",
      "source": [],
      "metadata": {
        "id": "6Bc60AcAdw57"
      },
      "execution_count": null,
      "outputs": []
    },
    {
      "cell_type": "markdown",
      "source": [
        "#### 2) Suponga que una combinación de las columnas de $A$ es igual a una combinación diferente de esas columnas. Expréselo como $Ax = Ay$. Encuentre dos combinaciones de las columnas de $A$ que son iguales al vector cero (en lenguaje matricial: encuentre dos soluciones para $Az = 0$). "
      ],
      "metadata": {
        "id": "uZsEi3lcGz89"
      }
    },
    {
      "cell_type": "markdown",
      "source": [
        "${\\begin{bmatrix}\n",
        "2 \\quad 3 \\\\\n",
        "2 \\quad 4 \\\\\n",
        "3 \\quad 7 \\\\\n",
        "\\end{bmatrix}}\n",
        "{\\begin{bmatrix}\n",
        "x_{1} \\\\\n",
        "x_{2} \\\\\n",
        "\\end{bmatrix}}\n",
        "= x_{1}\n",
        "{\\begin{bmatrix}\n",
        "2 \\\\\n",
        "2 \\\\\n",
        "3 \\\\\n",
        "\\end{bmatrix}} + x_{2}\n",
        "{\\begin{bmatrix}\n",
        "3 \\\\\n",
        "4 \\\\\n",
        "7 \\\\\n",
        "\\end{bmatrix}}$"
      ],
      "metadata": {
        "id": "8474e38dhzgf"
      }
    },
    {
      "cell_type": "markdown",
      "source": [
        "#### 3) (Práctica con subíndices) Los vectores $a_{1}, a_{2}, ... , a_{n}$ están en el espacio $m$-dimensional $R^m$, y una combinación $c_{1}a_{1} + ··· + c_{n}a_{n}, ... , a_{n}$ están en el espacio $m$-dimensional es el vector cero. Esta afirmación está escrita en notación de vectores."
      ],
      "metadata": {
        "id": "5Iyc3ea4iM6I"
      }
    },
    {
      "cell_type": "markdown",
      "source": [
        "##### ($a$) Escriba la afirmación en notación matricial. Use la matriz $A$ con los vectores a en sus columnas y use el vector columna $c = (c_{1}, ... , c_{n})$. "
      ],
      "metadata": {
        "id": "1UIX9e5tA2vP"
      }
    },
    {
      "cell_type": "markdown",
      "source": [
        "##### ($b$) Escriba la afirmación en notación escalar. Use subíndices y notación de sumatoria para sumar. El vector columna $a_{j}$ tiene componentes $a_{1j}, a_{2j}, ... , a_{mj}$."
      ],
      "metadata": {
        "id": "N7dgN17yA26u"
      }
    },
    {
      "cell_type": "markdown",
      "source": [
        "#### 4) Suponga que $A = unos(3,3)$ es la matriz de $3$ por $3$ con un $1$ en cada posición. Encuentre dos vectores independientes $x$ e $y$ que sean soluciones de $Ax = 0$ y $Ay = 0$. Escriba la primera ecuación $Ax = 0$ (con números) como una combinación de las columnas de $A$. ¿Por qué piensa que no le pedí un tercer vector independiente tal que $Az = 0$? "
      ],
      "metadata": {
        "id": "hjdzWR4lG8yV"
      }
    },
    {
      "cell_type": "markdown",
      "source": [
        "#### 5) Las combinaciones lineales de $v = (1,1,0)$ y $w = (0,1,1)$ completan un plano en $R^3$: "
      ],
      "metadata": {
        "id": "CAS0B4hiG81m"
      }
    },
    {
      "cell_type": "markdown",
      "source": [
        "##### ($a$) Encuentre un vector $z$ que sea perpendicular a $v$ y a $w$. Así $z$ es perpendicular a todos los vectores $cv + dw$ en el plano: $(cv + dw)^Tz = cv^Tz + dw^Tz = 0+0$.  "
      ],
      "metadata": {
        "id": "yvVwvwWWG85N"
      }
    },
    {
      "cell_type": "markdown",
      "source": [
        "##### ($b$) Encuentre un vector $u$ que no esté en el plano. Verifique que $u^Tz \\neq 0$."
      ],
      "metadata": {
        "id": "tsIRdZQxL2lx"
      }
    },
    {
      "cell_type": "markdown",
      "source": [
        "#### 6) Si $(1,1)$, $(4,2)$, y $(1,3)$ son los tres vértices de un paralelogramo, encuentre las tres posibilidades para el cuarto vértice. Grafique dos. "
      ],
      "metadata": {
        "id": "Xf-jF43-L2zm"
      }
    },
    {
      "cell_type": "markdown",
      "source": [
        "#### 7) Describa el espacio columna de $A = [ w v + 2w ]$. Describa el espacio nulo de $A$: todos los vectores $x = (x1 ,x2 ,x3)$ solución de $Ax = 0$. Sume las dimensiones del plano (el espacio columna de $A$) y de la recta (el espacio nulo de $A$):"
      ],
      "metadata": {
        "id": "Hk1EfAymR1WB"
      }
    },
    {
      "cell_type": "markdown",
      "source": [
        "**dimensión del espacio columna $+$ dimensión del espacio nulo $=$ cantidad de columnas**"
      ],
      "metadata": {
        "id": "c-k5NmicF9JU"
      }
    },
    {
      "cell_type": "markdown",
      "source": [
        "#### 8) $A = CR$ es la representación de las columnas de $A$ en la base formada por las columnas de $C$ con coeficientes en $R$. Si $A_{ij} = j^2$ es de $3$ por $3$, escriba $A$, $C$ y $R$."
      ],
      "metadata": {
        "id": "DgnuPwD1Y59e"
      }
    },
    {
      "cell_type": "markdown",
      "source": [
        "#### 9) Sea todo $R^3$ el espacio columna de una matriz $m$$ por n$. ¿Qué puede decir sobre $m$? ¿Qué puede decir sobre $n$? ¿Qué puede decir sobre el rango $r$? "
      ],
      "metadata": {
        "id": "WcoSLPjFPNb1"
      }
    },
    {
      "cell_type": "markdown",
      "source": [
        "#### 10) Encuentre las matrices $C_{1}$ y $C_{2}$ que contengan columnas independientes de $A_{1}$ y $A_{2}$: "
      ],
      "metadata": {
        "id": "ueRAeBemHFRC"
      }
    },
    {
      "cell_type": "markdown",
      "source": [
        "$A = \n",
        "{\\begin{bmatrix}\n",
        "1 \\quad 3 \\quad -2 \\\\\n",
        "3 \\quad 9 \\quad -6 \\\\\n",
        "2 \\quad 6 \\quad -4 \\\\\n",
        "\\end{bmatrix}} \\quad\n",
        "C= \n",
        "{\\begin{bmatrix}\n",
        "1 \\quad 2 \\quad 3 \\\\\n",
        "4 \\quad 5 \\quad 6 \\\\\n",
        "7 \\quad 8 \\quad 9 \\\\\n",
        "\\end{bmatrix}}$"
      ],
      "metadata": {
        "id": "DRT3LvBoiNUX"
      }
    },
    {
      "cell_type": "markdown",
      "source": [
        "#### 11) Factorice cada una de esas matrices como $A = CR$. La matriz $R$ contiene los números que multiplicados por las columnas de $C$ recuperen las columnas de $A$. Esta es una manera de interpretar las multiplicación de matrices: $C$ **por cada columna de $R$.**"
      ],
      "metadata": {
        "id": "iCrEnmltiNXA"
      }
    },
    {
      "cell_type": "markdown",
      "source": [
        "#### 12) Halle una base para el espacio columna de $A_{1}$ y de $A_{2}$. ¿Cuáles son las dimensiones de los espacios columna (el número de vectores independientes)? ¿Cuáles son los rangos de $A_{1}$ y de $A_{2}$? ¿Cuántas filas independientes tienen $A_{1}$ y de $A_{2}$? "
      ],
      "metadata": {
        "id": "mj_bj-F5Wh-_"
      }
    },
    {
      "cell_type": "markdown",
      "source": [
        "#### 13) Encuentre una matriz $A$ de $4$ por $4$ de rango $2$. ¿Qué tamaño tienen $C$ y $R$? "
      ],
      "metadata": {
        "id": "sM47LhI6WiCm"
      }
    },
    {
      "cell_type": "markdown",
      "source": [
        "#### 14) Suponga que dos matrices $A$ y $B$ tienen el mismo espacio columna."
      ],
      "metadata": {
        "id": "hifaRJfvfT_O"
      }
    },
    {
      "cell_type": "markdown",
      "source": [
        "##### ($a$) Muestre que los espacios fila pueden ser diferentes."
      ],
      "metadata": {
        "id": "IvyNOxlPJAGR"
      }
    },
    {
      "cell_type": "markdown",
      "source": [
        "##### ($b$) Muestre que las matrices $C$ (columnas básicas) pueden ser diferentes. "
      ],
      "metadata": {
        "id": "Hk7wNr4GJE9p"
      }
    },
    {
      "cell_type": "markdown",
      "source": [
        "##### ($c$) ¿Qué valor será el mismo para $A$ y $B$? "
      ],
      "metadata": {
        "id": "1dbqP1WgJFAp"
      }
    },
    {
      "cell_type": "markdown",
      "source": [
        "#### 15) Si $A = CR$, la primera fila de $A$ es una combinación de las filas de $R$. ¿Qué parte de qué matriz tiene los coeficientes de esa combinación (los números que multiplican las filas de $R$ para producir la fila $1$ de $A$)? "
      ],
      "metadata": {
        "id": "WxtI-fwefUCV"
      }
    },
    {
      "cell_type": "markdown",
      "source": [
        "#### 16) Las filas de $R$ son una base para el espacio fila de $A$. ¿Qué significa esta afirmación? "
      ],
      "metadata": {
        "id": "O4JsH16LJfjb"
      }
    },
    {
      "cell_type": "markdown",
      "source": [
        "#### 17) Para las siguientes matrices con bloques cuadrados, encuentre la factorización $A = CR$. ¿Cuáles son los rangos de estas matrices? "
      ],
      "metadata": {
        "id": "lDqv04zyJfmj"
      }
    },
    {
      "cell_type": "markdown",
      "source": [
        "$A_{1} = \n",
        "{\\begin{bmatrix}\n",
        "ceros \\quad unos \\\\\n",
        "unos \\quad ceros \\\\\n",
        "\\end{bmatrix}}_{4 \\ 𝗑 \\ 4} \\quad \n",
        "A_{2} =\n",
        "{\\begin{bmatrix}\n",
        "A_{1} \\\\\n",
        "A_{1} \\\\\n",
        "\\end{bmatrix}}_{8 \\ 𝗑 \\ 4} \\quad\n",
        "A_{3} =\n",
        "{\\begin{bmatrix}\n",
        "A_{1} \\ A_{1} \\\\\n",
        "A_{1} \\ A_{1} \\\\\n",
        "\\end{bmatrix}}_{8 \\ 𝗑 \\ 4}$"
      ],
      "metadata": {
        "id": "pNr41vikJfpg"
      }
    },
    {
      "cell_type": "markdown",
      "source": [
        "#### 18) Si $A = CR$, ¿cuáles son los factores $CR$ de la matriz $M$?"
      ],
      "metadata": {
        "id": "GPXGpdNiJfsS"
      }
    },
    {
      "cell_type": "markdown",
      "source": [
        "$M = \n",
        "{\\begin{bmatrix}\n",
        "0 \\quad A \\\\\n",
        "0 \\quad A \\\\\n",
        "\\end{bmatrix}}$"
      ],
      "metadata": {
        "id": "qug7nWDZLZF7"
      }
    },
    {
      "cell_type": "markdown",
      "source": [
        "#### 19) La eliminación resta de la fila $i$ un factor $l_{ij}$ multiplicado por la fila $j$: es una operación por filas. Muestre cómo esos pasos pueden reducir la matriz $A$ del Ejemplo $4$ a $R$ (excepto que una fila de la matriz escalonada $R$ sea cero). ¡El rango no cambiará! "
      ],
      "metadata": {
        "id": "QaR4LhlpLZIz"
      }
    },
    {
      "cell_type": "markdown",
      "source": [
        "$A = \n",
        "{\\begin{bmatrix}\n",
        "1 \\quad 3 \\quad 8 \\\\\n",
        "1 \\quad 2 \\quad 6 \\\\\n",
        "0 \\quad 1 \\quad 2 \\\\\n",
        "\\end{bmatrix}} \\quad → \\ → \\quad\n",
        "R = \n",
        "{\\begin{bmatrix}\n",
        "1 \\quad 0 \\quad 2 \\\\\n",
        "0 \\quad 1 \\quad 2 \\\\\n",
        "0 \\quad 0 \\quad 0 \\\\\n",
        "\\end{bmatrix}} = \\ rref(A)$"
      ],
      "metadata": {
        "id": "iy2q_xTSLZMC"
      }
    },
    {
      "cell_type": "markdown",
      "source": [
        "𝖷"
      ],
      "metadata": {
        "id": "OmENzxw5LZOj"
      }
    }
  ]
}